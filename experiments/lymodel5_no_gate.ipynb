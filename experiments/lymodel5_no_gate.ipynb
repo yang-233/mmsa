{
 "cells": [
  {
   "cell_type": "code",
   "execution_count": 2,
   "metadata": {},
   "outputs": [
    {
     "data": {
      "text/plain": [
       "{'task': 'CLS',\n",
       " 'embedding_dim': 100,\n",
       " 'embedding': None,\n",
       " 'freeze_embedding': True,\n",
       " 'text_hidden_size': 100,\n",
       " 'text_layers': 1,\n",
       " 'max_tokens': 512,\n",
       " 'uniform_bound': 0.1,\n",
       " 'img_input_size': 2048,\n",
       " 'img_encoder_layers': 1,\n",
       " 'attention_nhead': 4,\n",
       " 'fusion_nheads': 4,\n",
       " 'dropout': 0.1,\n",
       " 'output_size': 5,\n",
       " 'bias_init': 1.0}"
      ]
     },
     "execution_count": 2,
     "metadata": {},
     "output_type": "execute_result"
    }
   ],
   "source": [
    "import sys\n",
    "sys.path.append(\"/home/ly/workspace/mmsa\")\n",
    "seed = 1938\n",
    "import numpy as np\n",
    "import torch\n",
    "from torch import nn\n",
    "from torch import optim\n",
    "\n",
    "np.random.seed(seed)\n",
    "torch.manual_seed(seed)\n",
    "torch.cuda.manual_seed(seed)\n",
    "torch.cuda.manual_seed_all(seed)\n",
    "from models.lymodel5_no_gate import *\n",
    "from utils.train import *\n",
    "from typing import *\n",
    "from utils.load_yelp import *\n",
    "from utils.dataset import *\n",
    "from utils.train import *\n",
    "from utils.train import *\n",
    "\n",
    "config"
   ]
  },
  {
   "cell_type": "code",
   "execution_count": 3,
   "metadata": {},
   "outputs": [
    {
     "name": "stderr",
     "output_type": "stream",
     "text": [
      "/home/ly/miniconda3/envs/torch1.7/lib/python3.8/site-packages/torch/nn/modules/rnn.py:58: UserWarning: dropout option adds dropout after all but last recurrent layer, so non-zero dropout expects num_layers greater than 1, but got dropout=0.1 and num_layers=1\n",
      "  warnings.warn(\"dropout option adds dropout after all but last \"\n",
      "Setting up a new session...\n"
     ]
    },
    {
     "name": "stdout",
     "output_type": "stream",
     "text": [
      "{'Total': 5137205, 'Trainable': 853805} CrossEntropyLoss()\n"
     ]
    },
    {
     "name": "stderr",
     "output_type": "stream",
     "text": [
      "No 1 epoch: 554it [01:15,  7.34it/s]\n",
      "No 2 epoch: 554it [01:16,  7.28it/s]\n",
      "No 3 epoch: 554it [01:16,  7.22it/s]\n",
      "No 4 epoch: 554it [01:17,  7.15it/s]\n",
      "No 5 epoch: 554it [01:17,  7.17it/s]\n",
      "No 6 epoch: 554it [01:17,  7.12it/s]\n",
      "No 7 epoch: 554it [01:16,  7.25it/s]\n",
      "No 8 epoch: 554it [01:17,  7.17it/s]\n",
      "No 9 epoch: 554it [01:16,  7.23it/s]\n",
      "No 10 epoch: 554it [01:16,  7.22it/s]\n",
      "No 11 epoch: 554it [01:17,  7.18it/s]\n",
      "No 12 epoch: 554it [01:16,  7.20it/s]\n",
      "No 13 epoch: 554it [01:17,  7.15it/s]\n",
      "No 14 epoch: 554it [01:15,  7.31it/s]\n",
      "No 15 epoch: 554it [01:17,  7.19it/s]\n",
      "No 16 epoch: 554it [01:17,  7.13it/s]\n",
      "No 17 epoch: 554it [01:17,  7.18it/s]\n",
      "No 18 epoch: 554it [01:17,  7.17it/s]\n",
      "No 19 epoch: 554it [01:17,  7.19it/s]\n",
      "No 20 epoch: 554it [01:18,  7.06it/s]\n",
      "No 21 epoch: 554it [01:18,  7.03it/s]\n",
      "No 22 epoch: 554it [01:17,  7.11it/s]\n"
     ]
    },
    {
     "name": "stdout",
     "output_type": "stream",
     "text": [
      "CPU times: user 20min 20s, sys: 6min 21s, total: 26min 42s\n",
      "Wall time: 31min 30s\n"
     ]
    }
   ],
   "source": [
    "%%time\n",
    "train_set, valid_set, test_set= load_glove_data(split811data, config)\n",
    "batch_size = 64\n",
    "workers = 4\n",
    "train_loader, valid_loader, test_loader = get_loader(batch_size, workers, get_collate_fn(config), train_set, valid_set, test_set)\n",
    "model = Model(config).cuda()\n",
    "loss = nn.CrossEntropyLoss()\n",
    "\n",
    "print(get_parameter_number(model), loss)\n",
    "\n",
    "_interval = 5\n",
    "lr = 1e-3\n",
    "epoches = 50\n",
    "stoping_step = 10\n",
    "optimizer = get_regal_optimizer(model, optim.AdamW, lr)\n",
    "\n",
    "viz = get_Visdom()\n",
    "batch_loss_drawer = VisdomScalar(viz, f\"batch_loss interval:{_interval}\")\n",
    "epoch_loss_drawer = VisdomScalar(viz, f\"Train and valid loss\", 2)\n",
    "acc_drawer = VisdomScalar(viz, \"Train and valid accuracy\", 2)\n",
    "text_writer = VisdomTextWriter(viz, \"Training\")\n",
    "\n",
    "batch_loss = []\n",
    "train_loss = []\n",
    "valid_loss = []\n",
    "train_acc = []\n",
    "valid_acc = []\n",
    "\n",
    "res, model = train_visdom_v2(model, optimizer, loss, viz, train_loader,\n",
    "                          valid_loader, epoches, batch_loss, batch_loss_drawer,\n",
    "                          train_loss, valid_loss, epoch_loss_drawer,\n",
    "                          train_acc, valid_acc, acc_drawer, text_writer,\n",
    "                         _interval=_interval, early_stop=stoping_step)"
   ]
  },
  {
   "cell_type": "code",
   "execution_count": 4,
   "metadata": {},
   "outputs": [
    {
     "data": {
      "text/plain": [
       "{'min_valid_loss': 0.9483079119675853,\n",
       " 'min_valid_loss_epoch': 12,\n",
       " 'min_loss_train_acc': 0.6137960220059246,\n",
       " 'min_valid_loss_train_loss': 0.8688888529928065,\n",
       " 'min_loss_valid_acc': 0.5826185101580136,\n",
       " 'last_valid_acc': 0.5656884875846501,\n",
       " 'last_train_acc': 0.7493017350825222,\n",
       " 'last_epoch': 22,\n",
       " 'last_train_loss': 0.5964202659895901,\n",
       " 'last_valid_loss': 1.3394649144489126}"
      ]
     },
     "execution_count": 4,
     "metadata": {},
     "output_type": "execute_result"
    }
   ],
   "source": [
    "res\n"
   ]
  },
  {
   "cell_type": "code",
   "execution_count": 5,
   "metadata": {},
   "outputs": [
    {
     "name": "stderr",
     "output_type": "stream",
     "text": [
      "/home/ly/miniconda3/envs/torch1.7/lib/python3.8/site-packages/torch/nn/modules/rnn.py:742: UserWarning: RNN module weights are not part of single contiguous chunk of memory. This means they need to be compacted at every call, possibly greatly increasing memory usage. To compact weights again call flatten_parameters(). (Triggered internally at  /opt/conda/conda-bld/pytorch_1603729096996/work/aten/src/ATen/native/cudnn/RNN.cpp:775.)\n",
      "  result = _VF.gru(input, batch_sizes, hx, self._flat_weights, self.bias,\n"
     ]
    },
    {
     "data": {
      "text/plain": [
       "((0.5796839729119638, 0.5844848811399804), 0.9311414723471648)"
      ]
     },
     "execution_count": 5,
     "metadata": {},
     "output_type": "execute_result"
    }
   ],
   "source": [
    "eval_model(model, test_loader, loss)"
   ]
  },
  {
   "cell_type": "code",
   "execution_count": null,
   "metadata": {},
   "outputs": [],
   "source": []
  }
 ],
 "metadata": {
  "kernelspec": {
   "display_name": "torch1.7(py3.8.5)",
   "language": "python",
   "name": "torch1.7"
  },
  "language_info": {
   "codemirror_mode": {
    "name": "ipython",
    "version": 3
   },
   "file_extension": ".py",
   "mimetype": "text/x-python",
   "name": "python",
   "nbconvert_exporter": "python",
   "pygments_lexer": "ipython3",
   "version": "3.8.5"
  }
 },
 "nbformat": 4,
 "nbformat_minor": 4
}
