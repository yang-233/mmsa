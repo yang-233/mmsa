{
 "cells": [
  {
   "cell_type": "code",
   "execution_count": 1,
   "metadata": {},
   "outputs": [],
   "source": [
    "import sys\n",
    "sys.path.append(\"/home/ly/workspace/mmsa\")\n",
    "seed = 1945\n",
    "import numpy as np\n",
    "import torch\n",
    "from torch import nn\n",
    "from torch import optim\n",
    "\n",
    "np.random.seed(seed)\n",
    "torch.manual_seed(seed)\n",
    "torch.cuda.manual_seed(seed)\n",
    "torch.cuda.manual_seed_all(seed)\n",
    "from models.lymodel6 import *\n",
    "from utils.train import *\n",
    "from typing import *\n",
    "from collections import Counter\n",
    "from utils.load_yelp import *\n",
    "from utils.dataset import *\n",
    "from utils.train import *\n",
    "from utils.train import *"
   ]
  },
  {
   "cell_type": "code",
   "execution_count": 2,
   "metadata": {},
   "outputs": [
    {
     "data": {
      "text/plain": [
       "{'task': 'CLS',\n",
       " 'embedding_dim': 100,\n",
       " 'embedding': None,\n",
       " 'freeze_embedding': True,\n",
       " 'text_hidden_size': 100,\n",
       " 'text_layers': 1,\n",
       " 'max_tokens': 512,\n",
       " 'uniform_bound': 0.1,\n",
       " 'img_input_size': 2048,\n",
       " 'img_encoder_layers': 1,\n",
       " 'attention_nhead': 4,\n",
       " 'fusion_nheads': 4,\n",
       " 'dropout': 0.1,\n",
       " 'output_size': 5,\n",
       " 'bias_init': 1.0}"
      ]
     },
     "execution_count": 2,
     "metadata": {},
     "output_type": "execute_result"
    }
   ],
   "source": [
    "config"
   ]
  },
  {
   "cell_type": "code",
   "execution_count": 3,
   "metadata": {},
   "outputs": [
    {
     "name": "stderr",
     "output_type": "stream",
     "text": [
      "/home/ly/miniconda3/envs/torch1.6.0/lib/python3.7/site-packages/torch/nn/modules/rnn.py:60: UserWarning: dropout option adds dropout after all but last recurrent layer, so non-zero dropout expects num_layers greater than 1, but got dropout=0.1 and num_layers=1\n",
      "  \"num_layers={}\".format(dropout, num_layers))\n"
     ]
    },
    {
     "data": {
      "text/plain": [
       "({'Total': 5137005, 'Trainable': 853605}, CrossEntropyLoss())"
      ]
     },
     "execution_count": 3,
     "metadata": {},
     "output_type": "execute_result"
    }
   ],
   "source": [
    "batch_size = 64\n",
    "workers = 4\n",
    "train_set, valid_set, test_set= load_glove_data(split811data, config)\n",
    "train_loader, valid_loader, test_loader = get_loader(batch_size, workers, get_collate_fn(config), train_set, valid_set, test_set)\n",
    "model = Model(config).cuda()\n",
    "loss = nn.CrossEntropyLoss()\n",
    "get_parameter_number(model), loss"
   ]
  },
  {
   "cell_type": "code",
   "execution_count": 4,
   "metadata": {},
   "outputs": [
    {
     "name": "stdout",
     "output_type": "stream",
     "text": [
      "CPU times: user 3.18 s, sys: 2.13 s, total: 5.3 s\n",
      "Wall time: 9.52 s\n"
     ]
    },
    {
     "data": {
      "text/plain": [
       "((0.18126410835214446, 0.10475077646336213),\n",
       " Counter({0: 2063, 3: 2343, 1: 24}))"
      ]
     },
     "execution_count": 4,
     "metadata": {},
     "output_type": "execute_result"
    }
   ],
   "source": [
    "%%time\n",
    "y_true, y_pred, _loss = predict(model, valid_loader, loss)\n",
    "evalute(y_true, y_pred), Counter(y_pred)"
   ]
  },
  {
   "cell_type": "code",
   "execution_count": 5,
   "metadata": {},
   "outputs": [
    {
     "name": "stderr",
     "output_type": "stream",
     "text": [
      "Setting up a new session...\n",
      "No 1 epoch: 554it [01:25,  6.44it/s]\n",
      "No 2 epoch: 554it [01:24,  6.57it/s]\n",
      "No 3 epoch: 554it [01:25,  6.48it/s]\n",
      "No 4 epoch: 554it [01:25,  6.46it/s]\n",
      "No 5 epoch: 554it [01:26,  6.42it/s]\n",
      "No 6 epoch: 554it [01:26,  6.41it/s]\n",
      "No 7 epoch: 554it [01:27,  6.31it/s]\n",
      "No 8 epoch: 554it [01:27,  6.35it/s]\n",
      "No 9 epoch: 554it [01:26,  6.41it/s]\n",
      "No 10 epoch: 554it [01:26,  6.39it/s]\n",
      "No 11 epoch: 554it [01:28,  6.28it/s]\n",
      "No 12 epoch: 554it [01:26,  6.39it/s]\n",
      "No 13 epoch: 554it [01:29,  6.22it/s]\n",
      "No 14 epoch: 554it [01:27,  6.33it/s]\n",
      "No 15 epoch: 554it [01:26,  6.42it/s]\n",
      "No 16 epoch: 554it [01:27,  6.34it/s]\n",
      "No 17 epoch: 554it [01:27,  6.31it/s]\n",
      "No 18 epoch: 554it [01:28,  6.24it/s]\n"
     ]
    },
    {
     "name": "stdout",
     "output_type": "stream",
     "text": [
      "CPU times: user 17min 26s, sys: 7min 3s, total: 24min 29s\n",
      "Wall time: 29min 2s\n"
     ]
    }
   ],
   "source": [
    "%%time\n",
    "_interval = 5\n",
    "lr = 1e-3\n",
    "epoches = 50\n",
    "stoping_step = 10\n",
    "optimizer = get_regal_optimizer(model, optim.AdamW, lr)\n",
    "\n",
    "viz = get_Visdom()\n",
    "batch_loss_drawer = VisdomScalar(viz, f\"batch_loss interval:{_interval}\")\n",
    "epoch_loss_drawer = VisdomScalar(viz, f\"Train and valid loss\", 2)\n",
    "acc_drawer = VisdomScalar(viz, \"Train and valid accuracy\", 2)\n",
    "text_writer = VisdomTextWriter(viz, \"Training\")\n",
    "\n",
    "batch_loss = []\n",
    "train_loss = []\n",
    "valid_loss = []\n",
    "train_acc = []\n",
    "valid_acc = []\n",
    "\n",
    "res, model = train_visdom_v2(model, optimizer, loss, viz, train_loader,\n",
    "                          valid_loader, epoches, batch_loss, batch_loss_drawer,\n",
    "                          train_loss, valid_loss, epoch_loss_drawer,\n",
    "                          train_acc, valid_acc, acc_drawer, text_writer,\n",
    "                         _interval=_interval, early_stop=stoping_step)"
   ]
  },
  {
   "cell_type": "code",
   "execution_count": 6,
   "metadata": {},
   "outputs": [
    {
     "data": {
      "text/plain": [
       "{'min_valid_loss': 0.906354622620223,\n",
       " 'min_valid_loss_epoch': 8,\n",
       " 'min_loss_train_acc': 0.6044858231062209,\n",
       " 'min_valid_loss_train_loss': 0.8915010455045164,\n",
       " 'min_loss_valid_acc': 0.6002257336343115,\n",
       " 'last_valid_acc': 0.5808126410835215,\n",
       " 'last_train_acc': 0.6179715051488222,\n",
       " 'last_epoch': 18,\n",
       " 'last_train_loss': 0.877629969775517,\n",
       " 'last_valid_loss': 0.9483172251462398}"
      ]
     },
     "execution_count": 6,
     "metadata": {},
     "output_type": "execute_result"
    }
   ],
   "source": [
    "res"
   ]
  },
  {
   "cell_type": "code",
   "execution_count": 7,
   "metadata": {},
   "outputs": [
    {
     "name": "stderr",
     "output_type": "stream",
     "text": [
      "/home/ly/miniconda3/envs/torch1.6.0/lib/python3.7/site-packages/torch/nn/modules/rnn.py:738: UserWarning: RNN module weights are not part of single contiguous chunk of memory. This means they need to be compacted at every call, possibly greatly increasing memory usage. To compact weights again call flatten_parameters(). (Triggered internally at  /opt/conda/conda-bld/pytorch_1595629427478/work/aten/src/ATen/native/cudnn/RNN.cpp:1234.)\n",
      "  self.num_layers, self.dropout, self.training, self.bidirectional)\n"
     ]
    },
    {
     "data": {
      "text/plain": [
       "((0.5918735891647856, 0.5940133128758827), 0.8951505971546905)"
      ]
     },
     "execution_count": 7,
     "metadata": {},
     "output_type": "execute_result"
    }
   ],
   "source": [
    "eval_model(model, test_loader, loss)"
   ]
  },
  {
   "cell_type": "code",
   "execution_count": null,
   "metadata": {},
   "outputs": [],
   "source": []
  }
 ],
 "metadata": {
  "kernelspec": {
   "display_name": "Python [conda env:torch1.6.0]",
   "language": "python",
   "name": "conda-env-torch1.6.0-py"
  },
  "language_info": {
   "codemirror_mode": {
    "name": "ipython",
    "version": 3
   },
   "file_extension": ".py",
   "mimetype": "text/x-python",
   "name": "python",
   "nbconvert_exporter": "python",
   "pygments_lexer": "ipython3",
   "version": "3.7.9"
  }
 },
 "nbformat": 4,
 "nbformat_minor": 4
}
