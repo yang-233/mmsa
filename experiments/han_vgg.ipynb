{
 "cells": [
  {
   "cell_type": "code",
   "execution_count": 1,
   "metadata": {},
   "outputs": [],
   "source": [
    "import sys\n",
    "sys.path.append(\"/home/ly/workspace/mmsa\")\n",
    "seed = 5432\n",
    "import numpy as np\n",
    "import torch\n",
    "from torch import nn\n",
    "from torch import optim\n",
    "\n",
    "np.random.seed(seed)\n",
    "torch.manual_seed(seed)\n",
    "torch.cuda.manual_seed(seed)\n",
    "torch.cuda.manual_seed_all(seed)\n",
    "from models.han_vgg import *\n",
    "from utils.train import *\n",
    "from typing import *\n",
    "from collections import Counter\n",
    "\n",
    "from utils.load_yelp import *\n",
    "from utils.dataset import *\n",
    "from utils.train import *"
   ]
  },
  {
   "cell_type": "code",
   "execution_count": 2,
   "metadata": {},
   "outputs": [
    {
     "data": {
      "text/plain": [
       "{'task': 'CLS',\n",
       " 'embedding_dim': 200,\n",
       " 'embedding': None,\n",
       " 'freeze_embedding': False,\n",
       " 'word_hidden_size': 50,\n",
       " 'word_layers': 1,\n",
       " 'uniform_bound': 0.1,\n",
       " 'sentence_hidden_size': 50,\n",
       " 'sentence_layers': 1,\n",
       " 'use_imgs': True,\n",
       " 'img_input_size': 4096,\n",
       " 'img_output_size': 100,\n",
       " 'img_num': 3,\n",
       " 'dropout': 0.5,\n",
       " 'output_size': 5,\n",
       " 'bias_init': 1.0}"
      ]
     },
     "execution_count": 2,
     "metadata": {},
     "output_type": "execute_result"
    }
   ],
   "source": [
    "config = default_config\n",
    "config"
   ]
  },
  {
   "cell_type": "code",
   "execution_count": 3,
   "metadata": {},
   "outputs": [],
   "source": [
    "train_set, valid_set, test_set= load_glove_vgg_data(config)"
   ]
  },
  {
   "cell_type": "code",
   "execution_count": 4,
   "metadata": {},
   "outputs": [],
   "source": [
    "batch_size = 128\n",
    "workers = 6\n",
    "train_loader, valid_loader, test_loader = get_loader(batch_size, workers, get_collate_fn(config), train_set, valid_set, test_set)"
   ]
  },
  {
   "cell_type": "code",
   "execution_count": 5,
   "metadata": {},
   "outputs": [
    {
     "name": "stderr",
     "output_type": "stream",
     "text": [
      "/home/ly/miniconda3/envs/torch1.6.0/lib/python3.7/site-packages/torch/nn/modules/rnn.py:60: UserWarning: dropout option adds dropout after all but last recurrent layer, so non-zero dropout expects num_layers greater than 1, but got dropout=0.5 and num_layers=1\n",
      "  \"num_layers={}\".format(dropout, num_layers))\n"
     ]
    },
    {
     "data": {
      "text/plain": [
       "({'Total': 9119105, 'Trainable': 9119105}, CrossEntropyLoss())"
      ]
     },
     "execution_count": 5,
     "metadata": {},
     "output_type": "execute_result"
    }
   ],
   "source": [
    "model = Model(config).cuda()\n",
    "loss = nn.CrossEntropyLoss()\n",
    "get_parameter_number(model), loss"
   ]
  },
  {
   "cell_type": "code",
   "execution_count": null,
   "metadata": {},
   "outputs": [],
   "source": [
    "# viz = get_Visdom()\n",
    "\n",
    "# lr = 1e-3\n",
    "# epoches = 20\n",
    "# optimizer = get_regal_optimizer(model, optim.AdamW, lr)\n",
    "# k_batch_train_visdom(model, optimizer, loss, valid_loader, viz, 20, 10)"
   ]
  },
  {
   "cell_type": "code",
   "execution_count": null,
   "metadata": {},
   "outputs": [],
   "source": [
    "# k_batch_train_visdom(model, optimizer, loss, valid_loader, viz, 20, 10)"
   ]
  },
  {
   "cell_type": "code",
   "execution_count": 6,
   "metadata": {},
   "outputs": [
    {
     "data": {
      "text/plain": [
       "((0.19322799097065463, 0.14126633493160912),\n",
       " Counter({4: 1686, 0: 1962, 2: 766, 3: 16}))"
      ]
     },
     "execution_count": 6,
     "metadata": {},
     "output_type": "execute_result"
    }
   ],
   "source": [
    "y_true, y_pred, _loss = predict(model, valid_loader, loss)\n",
    "evalute(y_true, y_pred), Counter(y_pred)"
   ]
  },
  {
   "cell_type": "code",
   "execution_count": 7,
   "metadata": {},
   "outputs": [
    {
     "name": "stderr",
     "output_type": "stream",
     "text": [
      "Setting up a new session...\n"
     ]
    }
   ],
   "source": [
    "viz = get_Visdom()\n",
    "_interval = 5\n",
    "batch_loss_drawer = VisdomScalar(viz, f\"batch_loss interval:{_interval}\")\n",
    "epoch_loss_drawer = VisdomScalar(viz, f\"Train and valid loss\", 2)\n",
    "acc_drawer = VisdomScalar(viz, \"Train and valid accuracy\", 2)\n",
    "\n",
    "batch_loss = []\n",
    "train_loss = []\n",
    "valid_loss = []\n",
    "train_acc = []\n",
    "valid_acc = []\n"
   ]
  },
  {
   "cell_type": "code",
   "execution_count": 8,
   "metadata": {},
   "outputs": [
    {
     "data": {
      "application/vnd.jupyter.widget-view+json": {
       "model_id": "0e5d37d9bc964b79924f05fc7959f8da",
       "version_major": 2,
       "version_minor": 0
      },
      "text/plain": [
       "HBox(children=(FloatProgress(value=1.0, bar_style='info', description='No 1 epoch:', layout=Layout(width='20px…"
      ]
     },
     "metadata": {},
     "output_type": "display_data"
    },
    {
     "name": "stdout",
     "output_type": "stream",
     "text": [
      "\n",
      "No 1 epoch: train_loss:1.5207844941298907 train_acc:0.3651290732120186 valid_loss:1.0388951304534757 valid_acc:0.5729119638826186\n"
     ]
    },
    {
     "data": {
      "application/vnd.jupyter.widget-view+json": {
       "model_id": "e6259467427841b3a31f70e649cb64d5",
       "version_major": 2,
       "version_minor": 0
      },
      "text/plain": [
       "HBox(children=(FloatProgress(value=1.0, bar_style='info', description='No 2 epoch:', layout=Layout(width='20px…"
      ]
     },
     "metadata": {},
     "output_type": "display_data"
    },
    {
     "name": "stdout",
     "output_type": "stream",
     "text": [
      "\n",
      "No 2 epoch: train_loss:1.2030189056997829 train_acc:0.43887713358724784 valid_loss:0.9555320759928253 valid_acc:0.6117381489841986\n"
     ]
    },
    {
     "data": {
      "application/vnd.jupyter.widget-view+json": {
       "model_id": "3c67880c2ab24cf5834e1e4fc8b0f8a1",
       "version_major": 2,
       "version_minor": 0
      },
      "text/plain": [
       "HBox(children=(FloatProgress(value=1.0, bar_style='info', description='No 3 epoch:', layout=Layout(width='20px…"
      ]
     },
     "metadata": {},
     "output_type": "display_data"
    },
    {
     "name": "stdout",
     "output_type": "stream",
     "text": [
      "\n",
      "No 3 epoch: train_loss:1.150185267500488 train_acc:0.46167301452955284 valid_loss:0.9474212425287906 valid_acc:0.5988713318284424\n"
     ]
    },
    {
     "data": {
      "application/vnd.jupyter.widget-view+json": {
       "model_id": "423fb680837648ce869f39396bb2a209",
       "version_major": 2,
       "version_minor": 0
      },
      "text/plain": [
       "HBox(children=(FloatProgress(value=1.0, bar_style='info', description='No 4 epoch:', layout=Layout(width='20px…"
      ]
     },
     "metadata": {},
     "output_type": "display_data"
    },
    {
     "name": "stdout",
     "output_type": "stream",
     "text": [
      "\n",
      "No 4 epoch: train_loss:1.0834595243287433 train_acc:0.4932994780646071 valid_loss:0.9152493430583256 valid_acc:0.608803611738149\n"
     ]
    },
    {
     "data": {
      "application/vnd.jupyter.widget-view+json": {
       "model_id": "bba7fdc9d2fe4dfb88f7cd46e6494862",
       "version_major": 2,
       "version_minor": 0
      },
      "text/plain": [
       "HBox(children=(FloatProgress(value=1.0, bar_style='info', description='No 5 epoch:', layout=Layout(width='20px…"
      ]
     },
     "metadata": {},
     "output_type": "display_data"
    },
    {
     "name": "stdout",
     "output_type": "stream",
     "text": [
      "\n",
      "No 5 epoch: train_loss:1.0220416504096743 train_acc:0.5233178163351672 valid_loss:0.93057581159385 valid_acc:0.5923250564334086\n"
     ]
    },
    {
     "data": {
      "application/vnd.jupyter.widget-view+json": {
       "model_id": "e561d7f03e664332b99d6347307132cc",
       "version_major": 2,
       "version_minor": 0
      },
      "text/plain": [
       "HBox(children=(FloatProgress(value=1.0, bar_style='info', description='No 6 epoch:', layout=Layout(width='20px…"
      ]
     },
     "metadata": {},
     "output_type": "display_data"
    },
    {
     "name": "stdout",
     "output_type": "stream",
     "text": [
      "\n",
      "No 6 epoch: train_loss:0.9538425065243862 train_acc:0.5479475243334744 valid_loss:0.9545713109571832 valid_acc:0.5871331828442438\n"
     ]
    },
    {
     "data": {
      "application/vnd.jupyter.widget-view+json": {
       "model_id": "9034d40f4c124733b38263cd6b6864fb",
       "version_major": 2,
       "version_minor": 0
      },
      "text/plain": [
       "HBox(children=(FloatProgress(value=1.0, bar_style='info', description='No 7 epoch:', layout=Layout(width='20px…"
      ]
     },
     "metadata": {},
     "output_type": "display_data"
    },
    {
     "name": "stdout",
     "output_type": "stream",
     "text": [
      "\n",
      "No 7 epoch: train_loss:0.894127605546259 train_acc:0.5757934828607703 valid_loss:1.0302618813299433 valid_acc:0.582844243792325\n",
      "CPU times: user 12min 43s, sys: 1min 6s, total: 13min 50s\n",
      "Wall time: 13min 51s\n"
     ]
    }
   ],
   "source": [
    "%%time\n",
    "lr = 1e-3\n",
    "epoches = 20\n",
    "optimizer = get_regal_optimizer(model, optim.AdamW, lr)\n",
    "res, model = train_visdom(model, optimizer, loss, viz, train_loader,\n",
    "                          valid_loader, epoches, batch_loss, batch_loss_drawer,\n",
    "                          train_loss, valid_loss, epoch_loss_drawer,\n",
    "                          train_acc, valid_acc, acc_drawer,\n",
    "                         _interval=_interval)"
   ]
  },
  {
   "cell_type": "code",
   "execution_count": 9,
   "metadata": {},
   "outputs": [
    {
     "data": {
      "text/plain": [
       "{'max_acc': 0.6117381489841986,\n",
       " 'max_acc_epoch': 2,\n",
       " 'max_train_acc': 0.43887713358724784,\n",
       " 'max_acc_train_loss': 1.2030189056997829,\n",
       " 'max_acc_valid_loss': 0.9555320759928253,\n",
       " 'last_acc': 0.582844243792325,\n",
       " 'last_train_acc': 0.5757934828607703,\n",
       " 'last_epoch': 7,\n",
       " 'last_train_loss': 0.894127605546259,\n",
       " 'last_valid_loss': 1.0302618813299433}"
      ]
     },
     "execution_count": 9,
     "metadata": {},
     "output_type": "execute_result"
    }
   ],
   "source": [
    "res"
   ]
  },
  {
   "cell_type": "code",
   "execution_count": 10,
   "metadata": {},
   "outputs": [
    {
     "name": "stderr",
     "output_type": "stream",
     "text": [
      "/home/ly/miniconda3/envs/torch1.6.0/lib/python3.7/site-packages/torch/nn/modules/rnn.py:738: UserWarning: RNN module weights are not part of single contiguous chunk of memory. This means they need to be compacted at every call, possibly greatly increasing memory usage. To compact weights again call flatten_parameters(). (Triggered internally at  /opt/conda/conda-bld/pytorch_1595629427478/work/aten/src/ATen/native/cudnn/RNN.cpp:1234.)\n",
      "  self.num_layers, self.dropout, self.training, self.bidirectional)\n"
     ]
    },
    {
     "data": {
      "text/plain": [
       "((0.5981941309255079, 0.5914548176997841), 0.9578593667958175)"
      ]
     },
     "execution_count": 10,
     "metadata": {},
     "output_type": "execute_result"
    }
   ],
   "source": [
    "eval_model(model, test_loader, loss)"
   ]
  },
  {
   "attachments": {
    "1bcb9bdd-b127-495e-92bd-65aaa63ff08b.png": {
     "image/png": "[encoded data removed]"
    }
   },
   "cell_type": "markdown",
   "metadata": {},
   "source": [
    "![image.png](attachment:1bcb9bdd-b127-495e-92bd-65aaa63ff08b.png)"
   ]
  },
  {
   "cell_type": "code",
   "execution_count": null,
   "metadata": {},
   "outputs": [],
   "source": [
    "# 删除图片信息"
   ]
  },
  {
   "cell_type": "code",
   "execution_count": 11,
   "metadata": {},
   "outputs": [
    {
     "data": {
      "text/plain": [
       "{'task': 'CLS',\n",
       " 'embedding_dim': 200,\n",
       " 'embedding': Embedding(42834, 200),\n",
       " 'freeze_embedding': False,\n",
       " 'word_hidden_size': 50,\n",
       " 'word_layers': 1,\n",
       " 'uniform_bound': 0.1,\n",
       " 'sentence_hidden_size': 50,\n",
       " 'sentence_layers': 1,\n",
       " 'use_imgs': False,\n",
       " 'img_input_size': 4096,\n",
       " 'img_output_size': 100,\n",
       " 'img_num': 3,\n",
       " 'dropout': 0.5,\n",
       " 'output_size': 5,\n",
       " 'bias_init': 1.0,\n",
       " 'vocab_size': 42822}"
      ]
     },
     "execution_count": 11,
     "metadata": {},
     "output_type": "execute_result"
    }
   ],
   "source": [
    "config[\"use_imgs\"] = False\n",
    "config"
   ]
  },
  {
   "cell_type": "code",
   "execution_count": 12,
   "metadata": {},
   "outputs": [],
   "source": [
    "batch_size = 128\n",
    "workers = 6\n",
    "train_loader, valid_loader, test_loader = get_loader(batch_size, workers, get_collate_fn(config), train_set, valid_set, test_set)"
   ]
  },
  {
   "cell_type": "code",
   "execution_count": 13,
   "metadata": {},
   "outputs": [
    {
     "data": {
      "text/plain": [
       "({'Total': 8708905, 'Trainable': 8708905}, CrossEntropyLoss())"
      ]
     },
     "execution_count": 13,
     "metadata": {},
     "output_type": "execute_result"
    }
   ],
   "source": [
    "model = Model(config).cuda()\n",
    "loss = nn.CrossEntropyLoss()\n",
    "get_parameter_number(model), loss"
   ]
  },
  {
   "cell_type": "code",
   "execution_count": 14,
   "metadata": {},
   "outputs": [
    {
     "data": {
      "text/plain": [
       "((0.20406320541760722, 0.09765245197241668),\n",
       " Counter({1: 3961, 3: 265, 4: 199, 0: 5}))"
      ]
     },
     "execution_count": 14,
     "metadata": {},
     "output_type": "execute_result"
    }
   ],
   "source": [
    "y_true, y_pred, _loss = predict(model, valid_loader, loss)\n",
    "evalute(y_true, y_pred), Counter(y_pred)"
   ]
  },
  {
   "cell_type": "code",
   "execution_count": 17,
   "metadata": {},
   "outputs": [
    {
     "name": "stderr",
     "output_type": "stream",
     "text": [
      "Setting up a new session...\n"
     ]
    }
   ],
   "source": [
    "viz = get_Visdom()\n",
    "_interval = 5\n",
    "batch_loss_drawer = VisdomScalar(viz, f\"batch_loss interval:{_interval}\")\n",
    "epoch_loss_drawer = VisdomScalar(viz, f\"Train and valid loss\", 2)\n",
    "acc_drawer = VisdomScalar(viz, \"Train and valid accuracy\", 2)\n",
    "\n",
    "batch_loss = []\n",
    "train_loss = []\n",
    "valid_loss = []\n",
    "train_acc = []\n",
    "valid_acc = []\n"
   ]
  },
  {
   "cell_type": "code",
   "execution_count": 18,
   "metadata": {},
   "outputs": [
    {
     "data": {
      "application/vnd.jupyter.widget-view+json": {
       "model_id": "16d7b95d222c41c8b798e7482f79f072",
       "version_major": 2,
       "version_minor": 0
      },
      "text/plain": [
       "HBox(children=(FloatProgress(value=1.0, bar_style='info', description='No 1 epoch:', layout=Layout(width='20px…"
      ]
     },
     "metadata": {},
     "output_type": "display_data"
    },
    {
     "name": "stdout",
     "output_type": "stream",
     "text": [
      "\n",
      "No 1 epoch: train_loss:1.2247720027814077 train_acc:0.4287769784172662 valid_loss:1.005501662850649 valid_acc:0.5733634311512416\n"
     ]
    },
    {
     "data": {
      "application/vnd.jupyter.widget-view+json": {
       "model_id": "4a14cf570cdc4801b9aaad38b1c342b8",
       "version_major": 2,
       "version_minor": 0
      },
      "text/plain": [
       "HBox(children=(FloatProgress(value=1.0, bar_style='info', description='No 2 epoch:', layout=Layout(width='20px…"
      ]
     },
     "metadata": {},
     "output_type": "display_data"
    },
    {
     "name": "stdout",
     "output_type": "stream",
     "text": [
      "\n",
      "No 2 epoch: train_loss:0.9906611288278256 train_acc:0.5279447030610805 valid_loss:1.038086357961659 valid_acc:0.5602708803611738\n"
     ]
    },
    {
     "data": {
      "application/vnd.jupyter.widget-view+json": {
       "model_id": "19639ff5d5ee4edd80f3761068efad68",
       "version_major": 2,
       "version_minor": 0
      },
      "text/plain": [
       "HBox(children=(FloatProgress(value=1.0, bar_style='info', description='No 3 epoch:', layout=Layout(width='20px…"
      ]
     },
     "metadata": {},
     "output_type": "display_data"
    },
    {
     "name": "stdout",
     "output_type": "stream",
     "text": [
      "\n",
      "No 3 epoch: train_loss:0.899648576560352 train_acc:0.5671039638877133 valid_loss:1.0718940102219852 valid_acc:0.5546275395033861\n"
     ]
    },
    {
     "data": {
      "application/vnd.jupyter.widget-view+json": {
       "model_id": "1da05714db41430d8e1a5bc6727bfa4e",
       "version_major": 2,
       "version_minor": 0
      },
      "text/plain": [
       "HBox(children=(FloatProgress(value=1.0, bar_style='info', description='No 4 epoch:', layout=Layout(width='20px…"
      ]
     },
     "metadata": {},
     "output_type": "display_data"
    },
    {
     "name": "stdout",
     "output_type": "stream",
     "text": [
      "\n",
      "No 4 epoch: train_loss:0.8317696846310049 train_acc:0.5971505148822118 valid_loss:1.1557833931246946 valid_acc:0.5469525959367946\n"
     ]
    },
    {
     "data": {
      "application/vnd.jupyter.widget-view+json": {
       "model_id": "8e38f269dfed4902b9e57ea4ab3961ff",
       "version_major": 2,
       "version_minor": 0
      },
      "text/plain": [
       "HBox(children=(FloatProgress(value=1.0, bar_style='info', description='No 5 epoch:', layout=Layout(width='20px…"
      ]
     },
     "metadata": {},
     "output_type": "display_data"
    },
    {
     "name": "stdout",
     "output_type": "stream",
     "text": [
      "\n",
      "No 5 epoch: train_loss:0.7794063407235664 train_acc:0.6199181831005783 valid_loss:1.1967983632270693 valid_acc:0.5530474040632054\n"
     ]
    },
    {
     "data": {
      "application/vnd.jupyter.widget-view+json": {
       "model_id": "174622ca93da4755a7e7b450ea50da57",
       "version_major": 2,
       "version_minor": 0
      },
      "text/plain": [
       "HBox(children=(FloatProgress(value=1.0, bar_style='info', description='No 6 epoch:', layout=Layout(width='20px…"
      ]
     },
     "metadata": {},
     "output_type": "display_data"
    },
    {
     "name": "stdout",
     "output_type": "stream",
     "text": [
      "\n",
      "No 6 epoch: train_loss:0.7401470158193962 train_acc:0.633544928762872 valid_loss:1.3437942307366744 valid_acc:0.5419864559819413\n",
      "CPU times: user 10min 44s, sys: 56.8 s, total: 11min 41s\n",
      "Wall time: 11min 43s\n"
     ]
    }
   ],
   "source": [
    "%%time\n",
    "lr = 1e-3\n",
    "epoches = 20\n",
    "optimizer = get_regal_optimizer(model, optim.AdamW, lr)\n",
    "res, model = train_visdom(model, optimizer, loss, viz, train_loader,\n",
    "                          valid_loader, epoches, batch_loss, batch_loss_drawer,\n",
    "                          train_loss, valid_loss, epoch_loss_drawer,\n",
    "                          train_acc, valid_acc, acc_drawer,\n",
    "                         _interval=_interval)"
   ]
  },
  {
   "cell_type": "code",
   "execution_count": 19,
   "metadata": {},
   "outputs": [
    {
     "data": {
      "text/plain": [
       "{'max_acc': 0.5733634311512416,\n",
       " 'max_acc_epoch': 1,\n",
       " 'max_train_acc': 0.4287769784172662,\n",
       " 'max_acc_train_loss': 1.2247720027814077,\n",
       " 'max_acc_valid_loss': 1.005501662850649,\n",
       " 'last_acc': 0.5419864559819413,\n",
       " 'last_train_acc': 0.633544928762872,\n",
       " 'last_epoch': 6,\n",
       " 'last_train_loss': 0.7401470158193962,\n",
       " 'last_valid_loss': 1.3437942307366744}"
      ]
     },
     "execution_count": 19,
     "metadata": {},
     "output_type": "execute_result"
    }
   ],
   "source": [
    "res"
   ]
  },
  {
   "cell_type": "code",
   "execution_count": 20,
   "metadata": {},
   "outputs": [
    {
     "name": "stderr",
     "output_type": "stream",
     "text": [
      "/home/ly/miniconda3/envs/torch1.6.0/lib/python3.7/site-packages/torch/nn/modules/rnn.py:738: UserWarning: RNN module weights are not part of single contiguous chunk of memory. This means they need to be compacted at every call, possibly greatly increasing memory usage. To compact weights again call flatten_parameters(). (Triggered internally at  /opt/conda/conda-bld/pytorch_1595629427478/work/aten/src/ATen/native/cudnn/RNN.cpp:1234.)\n",
      "  self.num_layers, self.dropout, self.training, self.bidirectional)\n"
     ]
    },
    {
     "data": {
      "text/plain": [
       "((0.5654627539503386, 0.5694702355610965), 1.006021492583488)"
      ]
     },
     "execution_count": 20,
     "metadata": {},
     "output_type": "execute_result"
    }
   ],
   "source": [
    "eval_model(model, test_loader, loss)"
   ]
  },
  {
   "cell_type": "code",
   "execution_count": null,
   "metadata": {},
   "outputs": [],
   "source": []
  }
 ],
 "metadata": {
  "kernelspec": {
   "display_name": "Python [conda env:torch1.6.0]",
   "language": "python",
   "name": "conda-env-torch1.6.0-py"
  },
  "language_info": {
   "codemirror_mode": {
    "name": "ipython",
    "version": 3
   },
   "file_extension": ".py",
   "mimetype": "text/x-python",
   "name": "python",
   "nbconvert_exporter": "python",
   "pygments_lexer": "ipython3",
   "version": "3.7.9"
  }
 },
 "nbformat": 4,
 "nbformat_minor": 4
}
