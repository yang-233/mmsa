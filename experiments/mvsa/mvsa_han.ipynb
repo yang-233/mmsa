{
 "cells": [
  {
   "cell_type": "code",
   "execution_count": 1,
   "metadata": {},
   "outputs": [
    {
     "data": {
      "text/plain": [
       "{'task': 'CLS',\n",
       " 'embedding_dim': 50,\n",
       " 'embedding': None,\n",
       " 'freeze_embedding': False,\n",
       " 'word_hidden_size': 100,\n",
       " 'word_layers': 1,\n",
       " 'uniform_bound': 0.1,\n",
       " 'sentence_hidden_size': 100,\n",
       " 'sentence_layers': 1,\n",
       " 'use_imgs': True,\n",
       " 'img_input_size': 4096,\n",
       " 'img_output_size': 100,\n",
       " 'img_num': 1,\n",
       " 'dropout': 0.5,\n",
       " 'output_size': 5,\n",
       " 'bias_init': 1.0}"
      ]
     },
     "execution_count": 1,
     "metadata": {},
     "output_type": "execute_result"
    }
   ],
   "source": [
    "import sys\n",
    "sys.path.append(\"/home/ly/workspace/mmsa\")\n",
    "seed = 1938\n",
    "import numpy as np\n",
    "import torch\n",
    "from torch import nn\n",
    "from torch import optim\n",
    "\n",
    "np.random.seed(seed)\n",
    "torch.manual_seed(seed)\n",
    "torch.cuda.manual_seed(seed)\n",
    "torch.cuda.manual_seed_all(seed)\n",
    "from models.mvsa_han import *\n",
    "from utils.train import *\n",
    "from typing import *\n",
    "from utils.load_mvsa import *\n",
    "from utils.dataset import *\n",
    "from utils.train import *\n",
    "from utils.train import *\n",
    "\n",
    "config"
   ]
  },
  {
   "cell_type": "code",
   "execution_count": 3,
   "metadata": {},
   "outputs": [],
   "source": [
    "config[\"use_imgs\"] = False"
   ]
  },
  {
   "cell_type": "code",
   "execution_count": 2,
   "metadata": {},
   "outputs": [],
   "source": [
    "torch.cuda.set_device(1)"
   ]
  },
  {
   "cell_type": "code",
   "execution_count": 5,
   "metadata": {},
   "outputs": [
    {
     "name": "stderr",
     "output_type": "stream",
     "text": [
      "/home/ly/miniconda3/envs/torch1.7/lib/python3.8/site-packages/torch/nn/modules/rnn.py:58: UserWarning: dropout option adds dropout after all but last recurrent layer, so non-zero dropout expects num_layers greater than 1, but got dropout=0.5 and num_layers=1\n",
      "  warnings.warn(\"dropout option adds dropout after all but last \"\n",
      "Setting up a new session...\n"
     ]
    },
    {
     "name": "stdout",
     "output_type": "stream",
     "text": [
      "{'Total': 983253, 'Trainable': 983253}\n"
     ]
    },
    {
     "name": "stderr",
     "output_type": "stream",
     "text": [
      "No 1 epoch: 119it [00:06, 19.06it/s]\n",
      "No 2 epoch: 119it [00:06, 18.90it/s]\n",
      "No 3 epoch: 119it [00:06, 18.32it/s]\n",
      "No 4 epoch: 119it [00:06, 18.85it/s]\n",
      "No 5 epoch: 119it [00:06, 18.91it/s]\n",
      "No 6 epoch: 119it [00:06, 18.46it/s]\n",
      "No 7 epoch: 119it [00:06, 18.13it/s]\n",
      "No 8 epoch: 119it [00:06, 18.61it/s]\n",
      "No 9 epoch: 119it [00:06, 18.08it/s]\n",
      "/home/ly/miniconda3/envs/torch1.7/lib/python3.8/site-packages/torch/nn/modules/rnn.py:742: UserWarning: RNN module weights are not part of single contiguous chunk of memory. This means they need to be compacted at every call, possibly greatly increasing memory usage. To compact weights again call flatten_parameters(). (Triggered internally at  /opt/conda/conda-bld/pytorch_1603729096996/work/aten/src/ATen/native/cudnn/RNN.cpp:775.)\n",
      "  result = _VF.gru(input, batch_sizes, hx, self._flat_weights, self.bias,\n"
     ]
    },
    {
     "name": "stdout",
     "output_type": "stream",
     "text": [
      "CPU times: user 1min, sys: 4.26 s, total: 1min 4s\n",
      "Wall time: 1min 9s\n"
     ]
    },
    {
     "data": {
      "text/plain": [
       "((0.6714229092350377, 0.64820485291835), 0.7086297502321144)"
      ]
     },
     "execution_count": 5,
     "metadata": {},
     "output_type": "execute_result"
    }
   ],
   "source": [
    "%%time\n",
    "\n",
    "batch_size = 64\n",
    "workers = 4\n",
    "train_set, valid_set, test_set= load_glove_data(config)\n",
    "train_loader, valid_loader, test_loader = get_loader(batch_size, workers, get_collate_fn(config), train_set, valid_set, test_set)\n",
    "model = Model(config).cuda()\n",
    "loss = nn.CrossEntropyLoss()\n",
    "print(get_parameter_number(model))\n",
    "\n",
    "_interval = 5\n",
    "lr = 1e-3\n",
    "epoches = 50\n",
    "stoping_step = 5\n",
    "optimizer = get_regal_optimizer(model, optim.AdamW, lr)\n",
    "\n",
    "viz = get_Visdom()\n",
    "batch_loss_drawer = VisdomScalar(viz, f\"batch_loss interval:{_interval}\")\n",
    "epoch_loss_drawer = VisdomScalar(viz, f\"Train and valid loss\", 2)\n",
    "acc_drawer = VisdomScalar(viz, \"Train and valid accuracy\", 2)\n",
    "text_writer = VisdomTextWriter(viz, \"Training\")\n",
    "\n",
    "batch_loss = []\n",
    "train_loss = []\n",
    "valid_loss = []\n",
    "train_acc = []\n",
    "valid_acc = []\n",
    "\n",
    "res, model = train_visdom_v2(model, optimizer, loss, viz, train_loader,\n",
    "                          valid_loader, epoches, batch_loss, batch_loss_drawer,\n",
    "                          train_loss, valid_loss, epoch_loss_drawer,\n",
    "                          train_acc, valid_acc, acc_drawer, text_writer,\n",
    "                         _interval=_interval, early_stop=stoping_step)\n",
    "eval_model(model, test_loader, loss)"
   ]
  },
  {
   "cell_type": "code",
   "execution_count": 4,
   "metadata": {},
   "outputs": [],
   "source": [
    "# 有图"
   ]
  },
  {
   "cell_type": "code",
   "execution_count": 3,
   "metadata": {},
   "outputs": [
    {
     "name": "stderr",
     "output_type": "stream",
     "text": [
      "/home/ly/miniconda3/envs/torch1.7/lib/python3.8/site-packages/torch/nn/modules/rnn.py:58: UserWarning: dropout option adds dropout after all but last recurrent layer, so non-zero dropout expects num_layers greater than 1, but got dropout=0.5 and num_layers=1\n",
      "  warnings.warn(\"dropout option adds dropout after all but last \"\n",
      "Setting up a new session...\n"
     ]
    },
    {
     "name": "stdout",
     "output_type": "stream",
     "text": [
      "{'Total': 1393253, 'Trainable': 1393253}\n"
     ]
    },
    {
     "name": "stderr",
     "output_type": "stream",
     "text": [
      "No 1 epoch: 119it [00:06, 18.06it/s]\n",
      "No 2 epoch: 119it [00:06, 18.13it/s]\n",
      "No 3 epoch: 119it [00:06, 19.07it/s]\n",
      "No 4 epoch: 119it [00:06, 18.87it/s]\n",
      "No 5 epoch: 119it [00:06, 18.38it/s]\n",
      "No 6 epoch: 119it [00:06, 18.16it/s]\n",
      "No 7 epoch: 119it [00:06, 17.59it/s]\n",
      "No 8 epoch: 119it [00:06, 17.59it/s]\n",
      "No 9 epoch: 119it [00:06, 18.61it/s]\n",
      "/home/ly/miniconda3/envs/torch1.7/lib/python3.8/site-packages/torch/nn/modules/rnn.py:742: UserWarning: RNN module weights are not part of single contiguous chunk of memory. This means they need to be compacted at every call, possibly greatly increasing memory usage. To compact weights again call flatten_parameters(). (Triggered internally at  /opt/conda/conda-bld/pytorch_1603729096996/work/aten/src/ATen/native/cudnn/RNN.cpp:775.)\n",
      "  result = _VF.gru(input, batch_sizes, hx, self._flat_weights, self.bias,\n"
     ]
    },
    {
     "name": "stdout",
     "output_type": "stream",
     "text": [
      "CPU times: user 1min 1s, sys: 4.11 s, total: 1min 5s\n",
      "Wall time: 1min 10s\n"
     ]
    },
    {
     "data": {
      "text/plain": [
       "((0.6706302021403091, 0.6480642152286904), 0.6930374035370336)"
      ]
     },
     "execution_count": 3,
     "metadata": {},
     "output_type": "execute_result"
    }
   ],
   "source": [
    "%%time\n",
    "\n",
    "batch_size = 64\n",
    "workers = 4\n",
    "train_set, valid_set, test_set= load_glove_data(config)\n",
    "train_loader, valid_loader, test_loader = get_loader(batch_size, workers, get_collate_fn(config), train_set, valid_set, test_set)\n",
    "model = Model(config).cuda()\n",
    "loss = nn.CrossEntropyLoss()\n",
    "print(get_parameter_number(model))\n",
    "\n",
    "_interval = 5\n",
    "lr = 1e-3\n",
    "epoches = 50\n",
    "stoping_step = 5\n",
    "optimizer = get_regal_optimizer(model, optim.AdamW, lr)\n",
    "\n",
    "viz = get_Visdom()\n",
    "batch_loss_drawer = VisdomScalar(viz, f\"batch_loss interval:{_interval}\")\n",
    "epoch_loss_drawer = VisdomScalar(viz, f\"Train and valid loss\", 2)\n",
    "acc_drawer = VisdomScalar(viz, \"Train and valid accuracy\", 2)\n",
    "text_writer = VisdomTextWriter(viz, \"Training\")\n",
    "\n",
    "batch_loss = []\n",
    "train_loss = []\n",
    "valid_loss = []\n",
    "train_acc = []\n",
    "valid_acc = []\n",
    "\n",
    "res, model = train_visdom_v2(model, optimizer, loss, viz, train_loader,\n",
    "                          valid_loader, epoches, batch_loss, batch_loss_drawer,\n",
    "                          train_loss, valid_loss, epoch_loss_drawer,\n",
    "                          train_acc, valid_acc, acc_drawer, text_writer,\n",
    "                         _interval=_interval, early_stop=stoping_step)\n",
    "eval_model(model, test_loader, loss)"
   ]
  },
  {
   "cell_type": "code",
   "execution_count": null,
   "metadata": {},
   "outputs": [],
   "source": []
  }
 ],
 "metadata": {
  "kernelspec": {
   "display_name": "torch1.7(py3.8.5)",
   "language": "python",
   "name": "torch1.7"
  },
  "language_info": {
   "codemirror_mode": {
    "name": "ipython",
    "version": 3
   },
   "file_extension": ".py",
   "mimetype": "text/x-python",
   "name": "python",
   "nbconvert_exporter": "python",
   "pygments_lexer": "ipython3",
   "version": "3.8.5"
  }
 },
 "nbformat": 4,
 "nbformat_minor": 4
}
