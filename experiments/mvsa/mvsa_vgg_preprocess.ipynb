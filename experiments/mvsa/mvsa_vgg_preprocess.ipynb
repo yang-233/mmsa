{
 "cells": [
  {
   "cell_type": "code",
   "execution_count": 1,
   "metadata": {},
   "outputs": [],
   "source": [
    "from collections import namedtuple\n",
    "import torch\n",
    "import torch.nn as nn\n",
    "from torchvision import models\n",
    "from utils.load_mvsa import *\n",
    "from PIL import Image\n",
    "\n",
    "from torchvision.transforms import ToTensor"
   ]
  },
  {
   "cell_type": "code",
   "execution_count": null,
   "metadata": {},
   "outputs": [],
   "source": [
    "glove_data = load_mvsa_glove_data()\n",
    "glove_data[\"train\"][:5]"
   ]
  },
  {
   "cell_type": "code",
   "execution_count": 22,
   "metadata": {},
   "outputs": [],
   "source": [
    "def load_image(_id):\n",
    "    path = DIR + \"images/\" + _id + \".jpg\"\n",
    "    return Image.open(path)\n",
    "im = load_image(\"11401\")"
   ]
  },
  {
   "cell_type": "code",
   "execution_count": 42,
   "metadata": {},
   "outputs": [],
   "source": [
    "class VGG16Extractor:\n",
    "    def __init__(self, use_cuda=True):\n",
    "        model = models.vgg16(pretrained=True)\n",
    "        model.classifier = nn.Sequential(model.classifier[:-1])\n",
    "        model.eval()\n",
    "        if use_cuda:\n",
    "            model = model.cuda()\n",
    "        self.vgg = model\n",
    "        self.use_cuda = use_cuda\n",
    "        self.TARGET_SIZE = 224\n",
    "        self.img2tensor = ToTensor()\n",
    "    def extract(self, img):\n",
    "        img = img.resize((self.TARGET_SIZE, self.TARGET_SIZE))\n",
    "        X = self.img2tensor(img)\n",
    "        X = X.unsqueeze(0)\n",
    "        if self.use_cuda:\n",
    "            X = X.cuda()\n",
    "        feature = self.vgg(X).squeeze()\n",
    "        feature = feature.cpu().detach().numpy()\n",
    "        return feature\n",
    "extractor = VGG16Extractor()"
   ]
  },
  {
   "cell_type": "code",
   "execution_count": 43,
   "metadata": {},
   "outputs": [
    {
     "data": {
      "text/plain": [
       "(4096,)"
      ]
     },
     "execution_count": 43,
     "metadata": {},
     "output_type": "execute_result"
    }
   ],
   "source": [
    "feature = extractor.extract(im)\n",
    "feature.shape"
   ]
  },
  {
   "cell_type": "code",
   "execution_count": 47,
   "metadata": {},
   "outputs": [],
   "source": [
    "def save_feature(_id, feature):\n",
    "    path = DIR + \"vgg16/\" + _id + \".npy\"\n",
    "    np.save(path, feature)\n",
    "# save_feature(\"11401\", feature)"
   ]
  },
  {
   "cell_type": "code",
   "execution_count": 49,
   "metadata": {},
   "outputs": [
    {
     "name": "stdout",
     "output_type": "stream",
     "text": [
      "CPU times: user 19min 25s, sys: 13.7 s, total: 19min 39s\n",
      "Wall time: 5min 5s\n"
     ]
    }
   ],
   "source": [
    "%%time\n",
    "def extract_vgg16():\n",
    "    for key in [\"train\", \"valid\", \"test\"]:\n",
    "        for i in glove_data[key]:\n",
    "            im = load_image(i[\"id\"])\n",
    "            feature = extractor.extract(im)\n",
    "            save_feature(i[\"id\"], feature)\n",
    "extract_vgg16()"
   ]
  },
  {
   "cell_type": "code",
   "execution_count": 4,
   "metadata": {},
   "outputs": [],
   "source": [
    "from utils.load_mvsa import *\n",
    "import numpy as np"
   ]
  },
  {
   "cell_type": "code",
   "execution_count": 3,
   "metadata": {},
   "outputs": [],
   "source": [
    "glove_data = load_mvsa_glove_data()"
   ]
  },
  {
   "cell_type": "code",
   "execution_count": 7,
   "metadata": {},
   "outputs": [
    {
     "data": {
      "text/plain": [
       "(4096,)"
      ]
     },
     "execution_count": 7,
     "metadata": {},
     "output_type": "execute_result"
    }
   ],
   "source": [
    "a = load_vgg(glove_data[\"train\"][0][\"id\"])\n",
    "a.shape"
   ]
  },
  {
   "cell_type": "code",
   "execution_count": 24,
   "metadata": {},
   "outputs": [],
   "source": [
    "MEAN = np.zeros(4096, dtype=np.float32)\n",
    "total = 0\n",
    "for key in [\"train\", \"valid\"]:\n",
    "    for i in glove_data[key]:\n",
    "        MEAN += load_vgg(i[\"id\"])\n",
    "        total += 1"
   ]
  },
  {
   "cell_type": "code",
   "execution_count": 25,
   "metadata": {},
   "outputs": [
    {
     "data": {
      "text/plain": [
       "array([0.02710865, 0.03218951, 0.05618101, ..., 0.03595013, 0.14719078,\n",
       "       0.31317756], dtype=float32)"
      ]
     },
     "execution_count": 25,
     "metadata": {},
     "output_type": "execute_result"
    }
   ],
   "source": [
    "MEAN /= total\n",
    "MEAN"
   ]
  },
  {
   "cell_type": "code",
   "execution_count": 26,
   "metadata": {},
   "outputs": [],
   "source": [
    "np.save(DIR + \"vgg16/\" + \"MEAN.npy\", MEAN)"
   ]
  },
  {
   "cell_type": "code",
   "execution_count": 27,
   "metadata": {},
   "outputs": [
    {
     "data": {
      "text/plain": [
       "dtype('float32')"
      ]
     },
     "execution_count": 27,
     "metadata": {},
     "output_type": "execute_result"
    }
   ],
   "source": [
    "MEAN.dtype"
   ]
  },
  {
   "cell_type": "code",
   "execution_count": null,
   "metadata": {},
   "outputs": [],
   "source": []
  }
 ],
 "metadata": {
  "kernelspec": {
   "display_name": "torch1.7(py3.8.5)",
   "language": "python",
   "name": "torch1.7"
  },
  "language_info": {
   "codemirror_mode": {
    "name": "ipython",
    "version": 3
   },
   "file_extension": ".py",
   "mimetype": "text/x-python",
   "name": "python",
   "nbconvert_exporter": "python",
   "pygments_lexer": "ipython3",
   "version": "3.8.5"
  }
 },
 "nbformat": 4,
 "nbformat_minor": 4
}
