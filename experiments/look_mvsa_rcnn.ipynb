{
 "cells": [
  {
   "cell_type": "code",
   "execution_count": 9,
   "metadata": {},
   "outputs": [
    {
     "name": "stderr",
     "output_type": "stream",
     "text": [
      "Setting up a new session...\n"
     ]
    }
   ],
   "source": [
    "from utils.train import get_Visdom\n",
    "from utils.load_mvsa import load_data, DIR\n",
    "viz = get_Visdom()"
   ]
  },
  {
   "cell_type": "code",
   "execution_count": 3,
   "metadata": {},
   "outputs": [],
   "source": [
    "import cv2\n",
    "def load_image(_id):\n",
    "    path = DIR + \"images/\" + _id + \".jpg\"\n",
    "    return cv2.imread(path)"
   ]
  },
  {
   "cell_type": "code",
   "execution_count": 4,
   "metadata": {},
   "outputs": [],
   "source": [
    "data = load_data()"
   ]
  },
  {
   "cell_type": "code",
   "execution_count": 5,
   "metadata": {},
   "outputs": [
    {
     "data": {
      "text/plain": [
       "{'id': '2499',\n",
       " 'text': 'Knocked doors with the venerable #TeamTrudeau #lpc candidate @kylejpeterson this aft in my hometown, Aurora! #elxn42',\n",
       " 'label': 'positive'}"
      ]
     },
     "execution_count": 5,
     "metadata": {},
     "output_type": "execute_result"
    }
   ],
   "source": [
    "data[0]"
   ]
  },
  {
   "cell_type": "code",
   "execution_count": 10,
   "metadata": {},
   "outputs": [],
   "source": [
    "def clear_text(text):\n",
    "    return text.replace(\"|||\", \"\")\n",
    "def cvt(img): #转换颜色通道\n",
    "    if img.shape[2] == 4:\n",
    "        return cv2.cvtColor(img, cv2.COLOR_BGRA2RGBA)\n",
    "    else:\n",
    "        return cv2.cvtColor(img, cv2.COLOR_BGR2RGB)\n",
    "def get_bbox(npz):\n",
    "    val = np.load(npz)\n",
    "    bbox = val[\"bbox\"].astype(np.int32).tolist()\n",
    "    return bbox\n",
    "def _draw_bbox(im, bbox):\n",
    "    for box in bbox:\n",
    "        x1, y1, x2, y2 = box\n",
    "        cv2.rectangle(im, (x1, y1), (x2, y2), (0, 0, 255), 2)\n",
    "    return im\n",
    "def look_mvsa_data(viz, t, __draw_bbox=False):\n",
    "    text = t[\"text\"]\n",
    "    img = t[\"id\"]\n",
    "    label = t[\"label\"]\n",
    "    im = load_image(img)\n",
    "    bbox_path = DIR + \"rcnn/\" + img + \".npz\"\n",
    "    if __draw_bbox:\n",
    "        bbox = get_bbox(bbox_path)\n",
    "        im = _draw_bbox(im, bbox)\n",
    "    im = cvt(im)\n",
    "    im = im.transpose(2, 0, 1)\n",
    "    win = viz.image(im)\n",
    "    print(\"Text:\")\n",
    "    print(text)\n",
    "    print(f\"Label : {label}\")"
   ]
  },
  {
   "cell_type": "code",
   "execution_count": 11,
   "metadata": {},
   "outputs": [
    {
     "name": "stdout",
     "output_type": "stream",
     "text": [
      "Text:\n",
      "Another good question for @ThomasMulcair @JustinTrudeau Can you explain this to Canadians? #elxn42 #polqc #fed2015\n",
      "Label : neutral\n"
     ]
    }
   ],
   "source": [
    "look_mvsa_data(viz, data[5], False)"
   ]
  },
  {
   "cell_type": "code",
   "execution_count": null,
   "metadata": {},
   "outputs": [],
   "source": []
  }
 ],
 "metadata": {
  "kernelspec": {
   "display_name": "cv(python3.6)",
   "language": "python",
   "name": "cv"
  },
  "language_info": {
   "codemirror_mode": {
    "name": "ipython",
    "version": 3
   },
   "file_extension": ".py",
   "mimetype": "text/x-python",
   "name": "python",
   "nbconvert_exporter": "python",
   "pygments_lexer": "ipython3",
   "version": "3.6.12"
  }
 },
 "nbformat": 4,
 "nbformat_minor": 4
}
