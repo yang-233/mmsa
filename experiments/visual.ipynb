{
 "cells": [
  {
   "cell_type": "code",
   "execution_count": 2,
   "metadata": {},
   "outputs": [
    {
     "name": "stderr",
     "output_type": "stream",
     "text": [
      "Setting up a new session...\n"
     ]
    }
   ],
   "source": [
    "from utils.train import get_Visdom\n",
    "from utils.load_raw_yelp import *\n",
    "from PIL import Image, ImageDraw, ImageFont\n",
    "from models.lymodel5 import *\n",
    "from utils.tokenization import BasicTokenizer\n",
    "viz = get_Visdom()"
   ]
  },
  {
   "cell_type": "code",
   "execution_count": 3,
   "metadata": {},
   "outputs": [
    {
     "name": "stderr",
     "output_type": "stream",
     "text": [
      "/home/ly/miniconda3/envs/torch1.7/lib/python3.8/site-packages/torch/nn/modules/rnn.py:58: UserWarning: dropout option adds dropout after all but last recurrent layer, so non-zero dropout expects num_layers greater than 1, but got dropout=0.1 and num_layers=1\n",
      "  warnings.warn(\"dropout option adds dropout after all but last \"\n"
     ]
    }
   ],
   "source": [
    "PATH = \"mymodel.pth\"\n",
    "*_, glove_data = load_glove_data(config)\n",
    "model = Model(config)"
   ]
  },
  {
   "cell_type": "code",
   "execution_count": 4,
   "metadata": {},
   "outputs": [],
   "source": [
    "data = load_clean_data()[\"test\"]\n",
    "collte_fn = get_collate_fn(config)\n",
    "glove_vocab = load_glove_vocab(DATA_DIR + \"raw/\")\n",
    "glove_tokenizer = YelpSimpleTokenizer(glove_vocab[\"token2idx\"], True)\n",
    "def load_image(_id):\n",
    "    path = DATA_DIR + \"photos/\" + _id[:2] +\"/\" + _id + \".jpg\"\n",
    "    return Image.open(path)\n",
    "def get_data(idx, city=\"Boston\"):\n",
    "    return glove_tokenizer.tokenize(data[city][idx][\"Text\"]), data[city][idx][\"Photos\"], data[city][idx][\"Rating\"]\\\n",
    "        , collte_fn([glove_data[city][idx]])"
   ]
  },
  {
   "cell_type": "code",
   "execution_count": 4,
   "metadata": {},
   "outputs": [],
   "source": [
    "text, photos, rating, (X, y) = get_data(0)"
   ]
  },
  {
   "cell_type": "code",
   "execution_count": 5,
   "metadata": {},
   "outputs": [
    {
     "data": {
      "text/plain": [
       "Model(\n",
       "  (word_embedding): Embedding(42183, 100)\n",
       "  (word_encoder): DynamicRNN(\n",
       "    (RNN): GRU(100, 100, batch_first=True, dropout=0.1, bidirectional=True)\n",
       "  )\n",
       "  (img_fc): Linear(in_features=2048, out_features=200, bias=True)\n",
       "  (tanh1): Tanh()\n",
       "  (attn): MultiheadAttention(\n",
       "    (out_proj): _LinearWithBias(in_features=200, out_features=200, bias=True)\n",
       "  )\n",
       "  (forget_gate_img_1): Linear(in_features=200, out_features=200, bias=False)\n",
       "  (forget_gete_text_1): Linear(in_features=200, out_features=200, bias=True)\n",
       "  (sigmoid): Sigmoid()\n",
       "  (forget_gate_img_2): Linear(in_features=200, out_features=200, bias=False)\n",
       "  (forget_gete_text_2): Linear(in_features=200, out_features=200, bias=True)\n",
       "  (tanh2): Tanh()\n",
       "  (fusion_encoder): MultiheadAttentionEncoder(\n",
       "    (attn): MultiheadAttention(\n",
       "      (out_proj): _LinearWithBias(in_features=200, out_features=200, bias=True)\n",
       "    )\n",
       "  )\n",
       "  (output_layer): OutputLayer(\n",
       "    (fc): Linear(in_features=200, out_features=5, bias=True)\n",
       "    (dropout): Dropout(p=0.1, inplace=True)\n",
       "  )\n",
       ")"
      ]
     },
     "execution_count": 5,
     "metadata": {},
     "output_type": "execute_result"
    }
   ],
   "source": [
    "state_dict = torch.load(PATH)\n",
    "model.load_state_dict(state_dict)\n",
    "model.eval()"
   ]
  },
  {
   "cell_type": "code",
   "execution_count": 42,
   "metadata": {},
   "outputs": [],
   "source": [
    "font = ImageFont.truetype(\"/usr/share/fonts/truetype/freefont/FreeMono.ttf\", 40, encoding=\"unic\")#设置字\n",
    "draw.text((100, 50), u'Hello World', 'fuchsia', font)"
   ]
  },
  {
   "cell_type": "code",
   "execution_count": 6,
   "metadata": {},
   "outputs": [],
   "source": [
    "def get_bbox(npz):\n",
    "    val = np.load(npz)\n",
    "    bbox = val[\"bbox\"].astype(np.int32).tolist()\n",
    "    return bbox\n",
    "def _draw_bbox(im, bbox):\n",
    "    draw = ImageDraw.Draw(im)\n",
    "    for box in bbox:\n",
    "        draw.rectangle(box, None, 'red')\n",
    "    return im"
   ]
  },
  {
   "cell_type": "code",
   "execution_count": 7,
   "metadata": {},
   "outputs": [],
   "source": [
    "def draw_photo_bbox(_id, indicies=None): # 显示图和bbox\n",
    "    im = load_image(_id)\n",
    "    bbox = load_rcnn_features(_id)[\"bbox\"].astype(np.int32).tolist()\n",
    "    draw = ImageDraw.Draw(im)\n",
    "    if indicies:\n",
    "        for i in indicies:\n",
    "            draw.rectangle(bbox[i], None, 'red')\n",
    "    else:\n",
    "        for box in bbox:\n",
    "            draw.rectangle(box, None, 'red')\n",
    "    im = np.array(im).transpose(2, 0, 1)\n",
    "    win = viz.image(im)"
   ]
  },
  {
   "cell_type": "code",
   "execution_count": 8,
   "metadata": {},
   "outputs": [],
   "source": [
    "def look_yelp_data(text, rating, photos):\n",
    "    print(\"Text:\")\n",
    "    print(text)\n",
    "    print(f\"Rating : {rating}\")\n",
    "    for i in photos:\n",
    "        draw_photo_bbox(i)"
   ]
  },
  {
   "cell_type": "code",
   "execution_count": 9,
   "metadata": {},
   "outputs": [],
   "source": [
    "def get_data2(idx, city=\"Boston\"):\n",
    "    return data[city][idx][\"Text\"], data[city][idx][\"Photos\"], data[city][idx][\"Rating\"]\\\n",
    "        , collte_fn([glove_data[city][idx]])"
   ]
  },
  {
   "cell_type": "code",
   "execution_count": null,
   "metadata": {},
   "outputs": [],
   "source": [
    "text, photos, rating, (X, y) = get_data2(2)\n",
    "look_yelp_data(text, rating, photos)"
   ]
  },
  {
   "cell_type": "code",
   "execution_count": 10,
   "metadata": {},
   "outputs": [],
   "source": [
    "def tok_1d(text):\n",
    "    sents = glove_tokenizer.tokenize(text)\n",
    "    res = []\n",
    "    for s in sents:\n",
    "        res += s\n",
    "    return res"
   ]
  },
  {
   "cell_type": "code",
   "execution_count": 12,
   "metadata": {},
   "outputs": [],
   "source": [
    "def get_all(sents, word):\n",
    "    res = []\n",
    "    for i, s in enumerate(sents):\n",
    "        if s == word:\n",
    "            res.append(i)\n",
    "    return res\n",
    "# indices = get_all(tok_1d(text), \"sushi\")\n",
    "# indices"
   ]
  },
  {
   "cell_type": "code",
   "execution_count": 13,
   "metadata": {},
   "outputs": [],
   "source": [
    "def get_bbox_num(photos):\n",
    "    res = []\n",
    "    for _id in photos:\n",
    "#         print(_id)\n",
    "        bbox = load_rcnn_features(_id)[\"bbox\"].astype(np.int32).tolist()\n",
    "        res.append(len(bbox))\n",
    "    return res\n",
    "# box_num = get_bbox_num(photos)"
   ]
  },
  {
   "cell_type": "code",
   "execution_count": 65,
   "metadata": {},
   "outputs": [],
   "source": [
    "res, score = model.infer(X)"
   ]
  },
  {
   "cell_type": "code",
   "execution_count": 66,
   "metadata": {},
   "outputs": [
    {
     "data": {
      "text/plain": [
       "torch.Size([1, 265, 66])"
      ]
     },
     "execution_count": 66,
     "metadata": {},
     "output_type": "execute_result"
    }
   ],
   "source": [
    "score.shape"
   ]
  },
  {
   "cell_type": "code",
   "execution_count": 68,
   "metadata": {},
   "outputs": [],
   "source": [
    "sushi_score = score[0][indices]"
   ]
  },
  {
   "cell_type": "code",
   "execution_count": 99,
   "metadata": {},
   "outputs": [],
   "source": [
    "val, indices = sushi_score[4].topk(3)"
   ]
  },
  {
   "cell_type": "code",
   "execution_count": 14,
   "metadata": {},
   "outputs": [],
   "source": [
    "def idx2box_num(indices, box_num):\n",
    "    res = []\n",
    "    for i in indices:\n",
    "        for j, n in enumerate(box_num):\n",
    "            if i >= n:\n",
    "                i -= n\n",
    "            else:\n",
    "                res.append((j, i))\n",
    "    return res\n"
   ]
  },
  {
   "cell_type": "code",
   "execution_count": 115,
   "metadata": {},
   "outputs": [
    {
     "data": {
      "text/plain": [
       "tensor([11,  8,  9])"
      ]
     },
     "execution_count": 115,
     "metadata": {},
     "output_type": "execute_result"
    }
   ],
   "source": [
    "indices"
   ]
  },
  {
   "cell_type": "code",
   "execution_count": 103,
   "metadata": {},
   "outputs": [
    {
     "data": {
      "text/plain": [
       "[16, 18, 16, 16]"
      ]
     },
     "execution_count": 103,
     "metadata": {},
     "output_type": "execute_result"
    }
   ],
   "source": [
    "box_num"
   ]
  },
  {
   "cell_type": "code",
   "execution_count": 15,
   "metadata": {},
   "outputs": [],
   "source": [
    "def draw_photo_bbox(_id, indicies=None, color='green', width=1): # 显示图和bbox\n",
    "    im = load_image(_id)\n",
    "    bbox = load_rcnn_features(_id)[\"bbox\"].astype(np.int32).tolist()\n",
    "    draw = ImageDraw.Draw(im)\n",
    "    if indicies:\n",
    "        for i in indicies:\n",
    "            draw.rectangle(bbox[i], None, color, width)\n",
    "    else:\n",
    "        for box in bbox:\n",
    "            draw.rectangle(box, None, color, width)\n",
    "    im = np.array(im).transpose(2, 0, 1)\n",
    "    win = viz.image(im)"
   ]
  },
  {
   "cell_type": "code",
   "execution_count": 116,
   "metadata": {},
   "outputs": [
    {
     "data": {
      "text/plain": [
       "[(1, tensor(11)),\n",
       " (2, tensor(11)),\n",
       " (3, tensor(11)),\n",
       " (1, tensor(8)),\n",
       " (2, tensor(8)),\n",
       " (3, tensor(8)),\n",
       " (3, tensor(9))]"
      ]
     },
     "execution_count": 116,
     "metadata": {},
     "output_type": "execute_result"
    }
   ],
   "source": [
    "val, indices = sushi_score[3].topk(3)\n",
    "_te = idx2box_num(indices, box_num)\n",
    "_te"
   ]
  },
  {
   "cell_type": "code",
   "execution_count": 125,
   "metadata": {},
   "outputs": [
    {
     "data": {
      "text/plain": [
       "\"despite of 3 and 1/2 stars , i gave it a try .|||should have left the moment i heard the conversations among the `` chefs '' at the sushi bar , the moment when i saw the `` extensive '' menu and when i learned that it is a restaurant chain .|||if i had my dinner at one of its tables , i might have given it a two-star rating .|||( my one star rating is for the waitress who served me ) sushi bar is where the chefs shine .|||have been at most of the top notch japanese restaurants in nyc , it is a blessing and a curse !|||can you imagine a neurosurgeon with gloved hands , touches your brain with an open skull , touches the breathing tubes , shakes hands with the other surgeons , opens and holds the operating room doors for the staffs and keeps on flipping the paper charts ?|||and if i am not too old fashion about sushi , it is it 's complexity from such simple ingredients ( meaning sushi rice and fish ) that makes sushi great .|||not the sauce !|||despite of how good my dinner looks in pictures that i post , i would rather be back to b .|||good to have an adopted luke burger despite of its 500 plus calories and a lucy blue despite of an additional 15 minutes of wait time .|||sorry cambridge , ma .|||i still loves boston .\""
      ]
     },
     "execution_count": 125,
     "metadata": {},
     "output_type": "execute_result"
    }
   ],
   "source": [
    "text"
   ]
  },
  {
   "cell_type": "code",
   "execution_count": 127,
   "metadata": {},
   "outputs": [],
   "source": [
    "draw_photo_bbox(photos[3], [11], color=\"yellow\", width=5)"
   ]
  },
  {
   "cell_type": "code",
   "execution_count": 120,
   "metadata": {},
   "outputs": [],
   "source": [
    "im = load_image(photos[3])\n",
    "draw = ImageDraw.Draw(im)"
   ]
  },
  {
   "cell_type": "code",
   "execution_count": 149,
   "metadata": {},
   "outputs": [
    {
     "name": "stdout",
     "output_type": "stream",
     "text": [
      "Text:\n",
      "the tried their bacon donut again and it did not live up to the hype !|||the donut itself was very dry and flakey ?|||i ca n't describe it .|||it leaves an oily taste in my mouth .|||i would give it another try .|||hoping the 3rd time is different .\n",
      "Rating : 2\n"
     ]
    }
   ],
   "source": [
    "text, photos, rating, (X, y) = get_data2(9)\n",
    "look_yelp_data(text, rating, photos)"
   ]
  },
  {
   "cell_type": "code",
   "execution_count": 150,
   "metadata": {},
   "outputs": [
    {
     "data": {
      "text/plain": [
       "torch.Size([1, 56, 48])"
      ]
     },
     "execution_count": 150,
     "metadata": {},
     "output_type": "execute_result"
    }
   ],
   "source": [
    "res, score = model.infer(X)\n",
    "score.shape"
   ]
  },
  {
   "cell_type": "code",
   "execution_count": 151,
   "metadata": {},
   "outputs": [
    {
     "data": {
      "text/plain": [
       "[3]"
      ]
     },
     "execution_count": 151,
     "metadata": {},
     "output_type": "execute_result"
    }
   ],
   "source": [
    "indices = get_all(tok_1d(text), \"bacon\")\n",
    "indices"
   ]
  },
  {
   "cell_type": "code",
   "execution_count": 152,
   "metadata": {},
   "outputs": [
    {
     "data": {
      "text/plain": [
       "torch.return_types.topk(\n",
       "values=tensor([0.0220, 0.0219, 0.0219, 0.0218, 0.0216], grad_fn=<TopkBackward>),\n",
       "indices=tensor([ 3, 21, 12,  7, 44]))"
      ]
     },
     "execution_count": 152,
     "metadata": {},
     "output_type": "execute_result"
    }
   ],
   "source": [
    "score[0][3].topk()"
   ]
  },
  {
   "cell_type": "code",
   "execution_count": 153,
   "metadata": {},
   "outputs": [
    {
     "data": {
      "text/plain": [
       "[16, 16, 16]"
      ]
     },
     "execution_count": 153,
     "metadata": {},
     "output_type": "execute_result"
    }
   ],
   "source": [
    "box_num = get_bbox_num(photos)\n",
    "box_num"
   ]
  },
  {
   "cell_type": "code",
   "execution_count": 154,
   "metadata": {},
   "outputs": [],
   "source": [
    "draw_photo_bbox(photos[0], [3], color=\"yellow\", width=5)"
   ]
  },
  {
   "cell_type": "code",
   "execution_count": 16,
   "metadata": {},
   "outputs": [],
   "source": [
    "def idx2box_num_v2(indices, box_num):\n",
    "    res = []\n",
    "    for i in indices:\n",
    "        for j, n in enumerate(box_num):\n",
    "            if i >= n:\n",
    "                i -= n\n",
    "            else:\n",
    "                res.append((j, i))\n",
    "                break\n",
    "    return res"
   ]
  },
  {
   "cell_type": "markdown",
   "metadata": {},
   "source": [
    "## 4"
   ]
  },
  {
   "cell_type": "code",
   "execution_count": 197,
   "metadata": {},
   "outputs": [
    {
     "name": "stdout",
     "output_type": "stream",
     "text": [
      "Text:\n",
      "went here for restaurant week march 2016 for lunch .|||staff were tired and inattentive .|||food was n't very filling ( even though one of our waiters gave us an extra cream spinach by accident ) .|||we asked a waiter for bread , he walked away and never came back .|||had to ask a waitress for bread again and i asked her for butter , she came back again without the butter .|||i know it all seems so picky but i do n't think i was asking for a lot .|||the steak was good but considering the size of it i ca n't imagine paying the normal $ 43 for it .|||the mashed potatoes and cream spinach were good too , however the quality of the food did n't make up for the quality of the service .|||considering all these other positive reviews i hope it was just an off day , because i 've had better service at tgi fridays .\n",
      "Rating : 2\n"
     ]
    }
   ],
   "source": [
    "text, photos, rating, (X, y) = get_data2(24)\n",
    "res, score = model.infer(X)\n",
    "look_yelp_data(text, rating, photos)"
   ]
  },
  {
   "cell_type": "code",
   "execution_count": 198,
   "metadata": {},
   "outputs": [],
   "source": [
    "indices = get_all(tok_1d(text), \"steak\")\n",
    "box_num = get_bbox_num(photos)\n",
    "_, bbox_idx = score[0][indices[0]].topk(5)\n",
    "temp = idx2box_num_v2(bbox_idx, box_num)\n",
    "for i, j in temp:\n",
    "    draw_photo_bbox(photos[i], [j.item()], color=\"yellow\", width=5)"
   ]
  },
  {
   "cell_type": "code",
   "execution_count": 162,
   "metadata": {},
   "outputs": [],
   "source": [
    "draw_photo_bbox(photos[1], [4], color=\"yellow\", width=5)"
   ]
  },
  {
   "cell_type": "markdown",
   "metadata": {},
   "source": [
    "## 5"
   ]
  },
  {
   "cell_type": "code",
   "execution_count": 27,
   "metadata": {},
   "outputs": [
    {
     "name": "stdout",
     "output_type": "stream",
     "text": [
      "Text:\n",
      "this place has really good chicken wings , but i must say its not worth the wait/ horrible service they have .|||ok maybeeee it is !|||one time , i made my order at 5:00pm , ( considering we all know they take about 40+ minutes to get a order ready ) i stopped by the place at about 5:40ish to pick up the order -- - the waiter said `` i 'm sorry , it will be another 15 minutes '' .|||so my boyfriend and i decided to walk around the area and came back around 6:00ish , just so the waiter can spend another 5 minutes looking for my order in his computer , then telling me he didnt put the order in , long story short ; it took 1hr and 15 mins for take out wings .|||the environment is pretty chill , its not too fancy .|||the place is n't too big and do n't be surprised if you have to wait a few minutes for a table ; the place can really get crowded !\n",
      "Rating : 4\n"
     ]
    }
   ],
   "source": [
    "text, photos, rating, (X, y) = get_data2(32)\n",
    "res, score = model.infer(X)\n",
    "look_yelp_data(text, rating, photos)"
   ]
  },
  {
   "cell_type": "code",
   "execution_count": 31,
   "metadata": {},
   "outputs": [],
   "source": [
    "indices = get_all(tok_1d(text), \"wings\")\n",
    "box_num = get_bbox_num(photos)\n",
    "_, bbox_idx = score[0][indices[0]].topk(3)\n",
    "temp = idx2box_num_v2(bbox_idx, box_num)\n",
    "for i, j in temp:\n",
    "    draw_photo_bbox(photos[i], [j.item()], color=\"yellow\", width=5)"
   ]
  },
  {
   "cell_type": "markdown",
   "metadata": {},
   "source": [
    "## 6"
   ]
  },
  {
   "cell_type": "code",
   "execution_count": 41,
   "metadata": {},
   "outputs": [
    {
     "name": "stdout",
     "output_type": "stream",
     "text": [
      "Text:\n",
      "i am known to travel far and wide for a great coffee shop on the weekends .|||would i go for a 20 minute drive to come back here , probably not .|||i would definitely hit it up again if i was close by .|||the decor of this place suits it 's name , it has a cool nostalgic american feel to it .|||iced mocha - standard iced mocha , was up to par with other good coffee shops i have been to but probably would n't crack my top 3 .|||cheese danish - solid cheese danish , ca n't go wrong on this .\n",
      "Rating : 4\n"
     ]
    }
   ],
   "source": [
    "text, photos, rating, (X, y) = get_data2(37)\n",
    "res, score = model.infer(X)\n",
    "look_yelp_data(text, rating, photos)"
   ]
  },
  {
   "cell_type": "code",
   "execution_count": 40,
   "metadata": {},
   "outputs": [],
   "source": [
    "indices = get_all(tok_1d(text), \"coffee\")\n",
    "box_num = get_bbox_num(photos)\n",
    "_, bbox_idx = score[0][indices[0]].topk(3)\n",
    "temp = idx2box_num_v2(bbox_idx, box_num)\n",
    "for i, j in temp:\n",
    "    draw_photo_bbox(photos[i], [j.item()], color=\"yellow\", width=5)"
   ]
  },
  {
   "cell_type": "code",
   "execution_count": null,
   "metadata": {},
   "outputs": [],
   "source": [
    "burger "
   ]
  }
 ],
 "metadata": {
  "kernelspec": {
   "display_name": "torch1.7(py3.8.5)",
   "language": "python",
   "name": "torch1.7"
  },
  "language_info": {
   "codemirror_mode": {
    "name": "ipython",
    "version": 3
   },
   "file_extension": ".py",
   "mimetype": "text/x-python",
   "name": "python",
   "nbconvert_exporter": "python",
   "pygments_lexer": "ipython3",
   "version": "3.8.5"
  }
 },
 "nbformat": 4,
 "nbformat_minor": 4
}
