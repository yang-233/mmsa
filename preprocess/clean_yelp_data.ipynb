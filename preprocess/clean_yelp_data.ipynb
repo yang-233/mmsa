{
 "cells": [
  {
   "cell_type": "code",
   "execution_count": 22,
   "metadata": {},
   "outputs": [],
   "source": [
    "import json\n",
    "import os\n",
    "import pickle\n",
    "from tqdm import tqdm\n",
    "from typing import *\n",
    "import random\n",
    "import numpy as np\n",
    "import shutil\n",
    "from multiprocessing import Pool\n",
    "seed = 1997 # 种子值\n",
    "np.random.seed(seed)\n",
    "random.seed(seed)"
   ]
  },
  {
   "cell_type": "code",
   "execution_count": 32,
   "metadata": {},
   "outputs": [],
   "source": [
    "cities = ['Boston', 'Chicago', 'Los Angeles', 'New York', 'San Francisco']"
   ]
  },
  {
   "cell_type": "code",
   "execution_count": 3,
   "metadata": {},
   "outputs": [
    {
     "data": {
      "text/plain": [
       "('data/yelp-vistanet',\n",
       " 'data/yelp-vistanet/raw',\n",
       " 'data/yelp-vistanet/raw/train.json',\n",
       " 'data/yelp-vistanet/raw/valid.json',\n",
       " ['data/yelp-vistanet/raw/test/Boston_test.json',\n",
       "  'data/yelp-vistanet/raw/test/Chicago_test.json',\n",
       "  'data/yelp-vistanet/raw/test/Los Angeles_test.json',\n",
       "  'data/yelp-vistanet/raw/test/New York_test.json',\n",
       "  'data/yelp-vistanet/raw/test/San Francisco_test.json'])"
      ]
     },
     "execution_count": 3,
     "metadata": {},
     "output_type": "execute_result"
    }
   ],
   "source": [
    "base_dir = os.path.join(\"data\",\"yelp-vistanet\")\n",
    "raw_dir = os.path.join(base_dir, \"raw\")\n",
    "raw_train_file = os.path.join(raw_dir, \"train.json\")\n",
    "raw_valid_file = os.path.join(raw_dir, \"valid.json\")\n",
    "raw_test_files = [os.path.join(raw_dir, \"test\", f\"{city}_test.json\") for city in cities]\n",
    "base_dir, raw_dir, raw_train_file, raw_valid_file, raw_test_files"
   ]
  },
  {
   "cell_type": "code",
   "execution_count": 4,
   "metadata": {},
   "outputs": [
    {
     "data": {
      "text/plain": [
       "('data/yelp-vistanet/raw/photos', 'data/yelp-vistanet/light_photos')"
      ]
     },
     "execution_count": 4,
     "metadata": {},
     "output_type": "execute_result"
    }
   ],
   "source": [
    "raw_photos_dir = os.path.join(raw_dir, \"photos\")\n",
    "light_photos_dir = os.path.join(\"data\", \"yelp-vistanet\", \"light_photos\")\n",
    "raw_photos_dir, light_photos_dir"
   ]
  },
  {
   "cell_type": "code",
   "execution_count": 5,
   "metadata": {},
   "outputs": [],
   "source": [
    "def check_photo(_id:str, mv:bool=False):\n",
    "    path = os.path.join(raw_photos_dir, _id[:2], _id + \".jpg\")\n",
    "    if not os.path.exists(path):\n",
    "        return False\n",
    "    if cp: # 如果需要复制\n",
    "        src = path\n",
    "        dest = os.path.join(light_photos_dir, _id[:2])\n",
    "        if not os.path.exists(dest):\n",
    "            os.makedirs(dest)\n",
    "        shutil.copyfile(src, os.path.join(dest, _id + \".jpg\"))\n",
    "    return True"
   ]
  },
  {
   "cell_type": "code",
   "execution_count": 6,
   "metadata": {},
   "outputs": [],
   "source": [
    "def read_reviews(file_path:str, clean_data:bool=False) -> List[Dict[str, str]]: \n",
    "    # 读入数据\n",
    "    reviews = None\n",
    "    if file_path.endswith(\".json\"):\n",
    "         with open(file_path, 'r', encoding=\"utf-8\") as f:\n",
    "            reviews = []\n",
    "            for line in tqdm(f, \"Read json\"):\n",
    "                review = json.loads(line)\n",
    "                imgs = []\n",
    "                captions = []\n",
    "                for photo in review['Photos']:\n",
    "                    _id = photo['_id']\n",
    "                    caption = photo[\"Caption\"]\n",
    "                    if clean_data:\n",
    "                        if check_photo(_id, False):\n",
    "                            imgs.append(_id)\n",
    "                            captions.append(caption)\n",
    "                    else:\n",
    "                        imgs.append(_id)\n",
    "                        captions.append(caption)\n",
    "                reviews.append({'_id': review['_id'],\n",
    "                      'Text': review['Text'],\n",
    "                      'Photos': imgs,\n",
    "                      'Captions': captions,\n",
    "                      'Rating': review['Rating']})\n",
    "    elif file_pathle.endswith(\".pickle\"):\n",
    "        with open(file_path, 'rb') as f:\n",
    "            reviews = pickle.load(f) # 直接从pickle中加载\n",
    "    else:\n",
    "        raise RuntimeError(\"Illegal file path!\")\n",
    "    return reviews"
   ]
  },
  {
   "cell_type": "code",
   "execution_count": 7,
   "metadata": {},
   "outputs": [
    {
     "data": {
      "text/plain": [
       "['data/yelp-vistanet/raw/train.json',\n",
       " 'data/yelp-vistanet/raw/valid.json',\n",
       " 'data/yelp-vistanet/raw/test/Boston_test.json',\n",
       " 'data/yelp-vistanet/raw/test/Chicago_test.json',\n",
       " 'data/yelp-vistanet/raw/test/Los Angeles_test.json',\n",
       " 'data/yelp-vistanet/raw/test/New York_test.json',\n",
       " 'data/yelp-vistanet/raw/test/San Francisco_test.json']"
      ]
     },
     "execution_count": 7,
     "metadata": {},
     "output_type": "execute_result"
    }
   ],
   "source": [
    "pathes = [raw_train_file, raw_valid_file, *raw_test_files]\n",
    "pathes"
   ]
  },
  {
   "cell_type": "code",
   "execution_count": 8,
   "metadata": {},
   "outputs": [
    {
     "name": "stderr",
     "output_type": "stream",
     "text": [
      "Read json: 35435it [00:01, 24520.17it/s]\n",
      "Read json: 2215it [00:00, 27590.83it/s]\n",
      "Read json: 315it [00:00, 27188.66it/s]\n",
      "Read json: 325it [00:00, 21412.28it/s]\n",
      "Read json: 3730it [00:00, 25033.81it/s]\n",
      "Read json: 1715it [00:00, 26424.91it/s]\n",
      "Read json: 570it [00:00, 23662.62it/s]\n"
     ]
    },
    {
     "data": {
      "text/plain": [
       "44305"
      ]
     },
     "execution_count": 8,
     "metadata": {},
     "output_type": "execute_result"
    }
   ],
   "source": [
    "total = []\n",
    "for path in pathes:\n",
    "    total += read_reviews(path, True)\n",
    "len(total)"
   ]
  },
  {
   "cell_type": "code",
   "execution_count": 9,
   "metadata": {},
   "outputs": [
    {
     "data": {
      "text/plain": [
       "{'_id': 'VaGecZmwWgbneUqCjv_RQQ',\n",
       " 'Text': \"this place is really nice and quiet , the design made me feel like i was just entered into european house .|||the place is cozy and full of items floor to ceiling .|||i have ordered salad and pasta with alfredo sauce the pasta was really good how ever the salad was a bit boring since there was too much lettuce .|||the menu was n't clear and it was a bit difficult for me to read it .|||overall my experience was good the bad part was when i received the check and they added 20 % tip to the check .|||( dont get me wrong i would tip the guys how ever i think its my decision of how much i want to tip .\",\n",
       " 'Photos': ['e_RnludZr4L0d51KB7wLmA',\n",
       "  'URRZ3k3weK4-eNbJLBlZNQ',\n",
       "  'I4MAmxOVzx-m3EYgiA9yww'],\n",
       " 'Captions': ['hoto of Benito One - New York, NY, United States',\n",
       "  'Please let me decide how much tip I want to leave',\n",
       "  'hoto of Benito One - New York, NY, United States'],\n",
       " 'Rating': 2}"
      ]
     },
     "execution_count": 9,
     "metadata": {},
     "output_type": "execute_result"
    }
   ],
   "source": [
    "total[0]"
   ]
  },
  {
   "cell_type": "code",
   "execution_count": 10,
   "metadata": {},
   "outputs": [
    {
     "data": {
      "text/plain": [
       "{'_id': 'ZKAOXX0Zc3-G-s1c_uBTUw',\n",
       " 'Text': \"after reading these reviews , i do n't know if i had the displeasure of going into the same store as everybody else .|||it was my first time here and the only reason we went in was to purchase some of their roasted almonds ( in shell ) .|||i tried some while visiting an elderly couple who i used to live next to , back in glendale days , and i really enjoyed these nuts.so much so that i wanted to buy some to take home .|||from the outside , it looks super nice.costco status .|||i was waiting to be wowed by the spectacularness of the inside .|||walking in , i felt like i was in an asian supermarket ; similar to giant grocery stores that have little shops and restaurants inside .|||golden farms was big and stocked but it looked dirty .|||there were women mopping the floors but it looked like the gunk on the floor was pretty stuck on .|||all in all , i would have gave them three stars because they can not control who walks into the store and what they cary with them ( dirty stuff under their feet ) .|||now here is my beef with this store .|||these signs drove me insane .|||i first noticed a few and laughed it over with my mom but i progressively went mad towards the veggie and fruit section .|||if you 're going to set up rules for your customers , one board should be enough .|||i was embarrassed by the end of my shopping trip .|||i felt like i was in one of those cheap asian boutiques that buy their stuff from chinatown and mark it up like crazy .|||i knew it was all downhill from there when i asked one of the workers , 'where are your nuts ? ''|||and he looked at me puzzled .|||pistachios and shit people !|||anyway , found the nuts and of course noticed the 'no tasting ' sign .|||i am not too familiar with the prices on nuts but i think that $ 4.99 is a little expensive for almonds .|||my mom takes care of the grocery shopping at our house , so i can possibly be going on a rant about nothing in particular but $ 4.99 sounded odd to me .|||customer service was also lacking , but i guess it suits their customers who were also extremely rude .|||why 2 stars you ask ?|||well a large bag of basmati rice was only $ 14.99 as opposed to $ 24.99 at other places .|||they also had tamar ice cream which i enjoyed on my way back to chatsworth , though unfortunately half had already melted by the time we got to the car .|||no bueno .|||do n't think i will ever come back , especially since there are so many better markets/grocery stores in the area .\",\n",
       " 'Photos': ['b-uVX5YIuJPe53JiXRlRmQ',\n",
       "  '3Md5waYMGvpYvMYVNQCfvw',\n",
       "  'oPYxCdmHdkep4-VeVUUkKw'],\n",
       " 'Captions': ['There were about 20 of these huge signs throughout the entire store.',\n",
       "  'My nuts',\n",
       "  'Ridiculous much?'],\n",
       " 'Rating': 2}"
      ]
     },
     "execution_count": 10,
     "metadata": {},
     "output_type": "execute_result"
    }
   ],
   "source": [
    "random.shuffle(total)\n",
    "total[0]"
   ]
  },
  {
   "cell_type": "code",
   "execution_count": 11,
   "metadata": {},
   "outputs": [
    {
     "data": {
      "text/plain": [
       "(35445, 4430, 4430)"
      ]
     },
     "execution_count": 11,
     "metadata": {},
     "output_type": "execute_result"
    }
   ],
   "source": [
    "dividing_point = len(total) // 10\n",
    "clear_data = {}\n",
    "clear_data[\"train\"] = total[:-2*dividing_point]\n",
    "clear_data[\"valid\"] = total[-2*dividing_point:-dividing_point]\n",
    "clear_data[\"test\"] = total[-dividing_point:]\n",
    "len(clear_data[\"train\"]), len(clear_data[\"valid\"]), len(clear_data[\"test\"])"
   ]
  },
  {
   "cell_type": "code",
   "execution_count": 12,
   "metadata": {},
   "outputs": [
    {
     "data": {
      "text/plain": [
       "'data/yelp-vistanet/clear_data.pickle'"
      ]
     },
     "execution_count": 12,
     "metadata": {},
     "output_type": "execute_result"
    }
   ],
   "source": [
    "clear_data_file = os.path.join(base_dir, \"clear_data.pickle\")\n",
    "clear_data_file"
   ]
  },
  {
   "cell_type": "code",
   "execution_count": 14,
   "metadata": {},
   "outputs": [],
   "source": [
    "with open(clear_data_file, \"wb\") as o:\n",
    "    pickle.dump(clear_data, o, protocol=pickle.HIGHEST_PROTOCOL)"
   ]
  },
  {
   "cell_type": "code",
   "execution_count": 18,
   "metadata": {},
   "outputs": [],
   "source": [
    "def get_imgs(reviews):\n",
    "    res = []\n",
    "    for r in reviews:\n",
    "        res += r[\"Photos\"]\n",
    "    return res"
   ]
  },
  {
   "cell_type": "code",
   "execution_count": 19,
   "metadata": {},
   "outputs": [
    {
     "data": {
      "text/plain": [
       "165427"
      ]
     },
     "execution_count": 19,
     "metadata": {},
     "output_type": "execute_result"
    }
   ],
   "source": [
    "all_imgs_id = get_imgs(clear_data[\"train\"]) + get_imgs(clear_data[\"valid\"]) + get_imgs(clear_data[\"test\"])\n",
    "len(all_imgs_id)"
   ]
  },
  {
   "cell_type": "code",
   "execution_count": 25,
   "metadata": {},
   "outputs": [
    {
     "data": {
      "text/plain": [
       "[[], [], [], [], [], [], [], [], [], []]"
      ]
     },
     "execution_count": 25,
     "metadata": {},
     "output_type": "execute_result"
    }
   ],
   "source": [
    "njobs = 10\n",
    "split_imgs_id = [[] for _ in range(njobs)]\n",
    "split_imgs_id"
   ]
  },
  {
   "cell_type": "code",
   "execution_count": 26,
   "metadata": {},
   "outputs": [],
   "source": [
    "for i, _id in enumerate(all_imgs_id):\n",
    "    split_imgs_id[i%njobs].append(_id)"
   ]
  },
  {
   "cell_type": "code",
   "execution_count": 27,
   "metadata": {},
   "outputs": [],
   "source": [
    "def cp_imgs(imgs_id):\n",
    "    res = 0\n",
    "    for _id in imgs_id:\n",
    "        res += check_photo(_id, True) #\n",
    "    return res"
   ]
  },
  {
   "cell_type": "code",
   "execution_count": 30,
   "metadata": {},
   "outputs": [
    {
     "data": {
      "text/plain": [
       "[<multiprocessing.pool.ApplyResult at 0x7f8f50a5a150>,\n",
       " <multiprocessing.pool.ApplyResult at 0x7f8f50a5a210>,\n",
       " <multiprocessing.pool.ApplyResult at 0x7f8f50a5a750>,\n",
       " <multiprocessing.pool.ApplyResult at 0x7f8f50a5a810>,\n",
       " <multiprocessing.pool.ApplyResult at 0x7f8f50a5a890>,\n",
       " <multiprocessing.pool.ApplyResult at 0x7f8f50a5aa10>,\n",
       " <multiprocessing.pool.ApplyResult at 0x7f8f50a5ab10>,\n",
       " <multiprocessing.pool.ApplyResult at 0x7f8f50a5ac10>,\n",
       " <multiprocessing.pool.ApplyResult at 0x7f8f50a5ad10>,\n",
       " <multiprocessing.pool.ApplyResult at 0x7f8f50a5a9d0>]"
      ]
     },
     "execution_count": 30,
     "metadata": {},
     "output_type": "execute_result"
    }
   ],
   "source": [
    "pool = Pool(processes=njobs)\n",
    "result = []\n",
    "for i, j in enumerate(split_imgs_id):\n",
    "    result.append(pool.apply_async(cp_imgs, (j,)))\n",
    "pool.close()\n",
    "pool.join()\n",
    "result"
   ]
  },
  {
   "cell_type": "code",
   "execution_count": 31,
   "metadata": {},
   "outputs": [
    {
     "data": {
      "text/plain": [
       "[16543, 16543, 16543, 16543, 16543, 16543, 16543, 16542, 16542, 16542]"
      ]
     },
     "execution_count": 31,
     "metadata": {},
     "output_type": "execute_result"
    }
   ],
   "source": [
    "[i.get() for i in result]"
   ]
  }
 ],
 "metadata": {
  "kernelspec": {
   "display_name": "torch1.7(py3.8.5)",
   "language": "python",
   "name": "torch1.7"
  },
  "language_info": {
   "codemirror_mode": {
    "name": "ipython",
    "version": 3
   },
   "file_extension": ".py",
   "mimetype": "text/x-python",
   "name": "python",
   "nbconvert_exporter": "python",
   "pygments_lexer": "ipython3",
   "version": "3.8.5"
  }
 },
 "nbformat": 4,
 "nbformat_minor": 4
}
