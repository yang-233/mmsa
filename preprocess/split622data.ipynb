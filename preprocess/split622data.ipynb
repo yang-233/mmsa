{
 "cells": [
  {
   "cell_type": "code",
   "execution_count": 1,
   "metadata": {},
   "outputs": [],
   "source": [
    "import json\n",
    "import os\n",
    "import pickle\n",
    "from tqdm import tqdm\n",
    "from typing import *\n",
    "import random\n",
    "import numpy as np\n",
    "import shutil\n",
    "from multiprocessing import Pool\n",
    "seed = 1945 # 种子值\n",
    "np.random.seed(seed)\n",
    "random.seed(seed)"
   ]
  },
  {
   "cell_type": "code",
   "execution_count": 2,
   "metadata": {},
   "outputs": [
    {
     "data": {
      "text/plain": [
       "('data/yelp-vistanet',\n",
       " 'data/yelp-vistanet/raw',\n",
       " 'data/yelp-vistanet/raw/train.json',\n",
       " 'data/yelp-vistanet/raw/valid.json',\n",
       " ['data/yelp-vistanet/raw/test/Boston_test.json',\n",
       "  'data/yelp-vistanet/raw/test/Chicago_test.json',\n",
       "  'data/yelp-vistanet/raw/test/Los Angeles_test.json',\n",
       "  'data/yelp-vistanet/raw/test/New York_test.json',\n",
       "  'data/yelp-vistanet/raw/test/San Francisco_test.json'])"
      ]
     },
     "execution_count": 2,
     "metadata": {},
     "output_type": "execute_result"
    }
   ],
   "source": [
    "cities = ['Boston', 'Chicago', 'Los Angeles', 'New York', 'San Francisco']\n",
    "base_dir = os.path.join(\"data\",\"yelp-vistanet\")\n",
    "raw_dir = os.path.join(base_dir, \"raw\")\n",
    "raw_train_file = os.path.join(raw_dir, \"train.json\")\n",
    "raw_valid_file = os.path.join(raw_dir, \"valid.json\")\n",
    "raw_test_files = [os.path.join(raw_dir, \"test\", f\"{city}_test.json\") for city in cities]\n",
    "base_dir, raw_dir, raw_train_file, raw_valid_file, raw_test_files"
   ]
  },
  {
   "cell_type": "code",
   "execution_count": 3,
   "metadata": {},
   "outputs": [
    {
     "data": {
      "text/plain": [
       "'data/yelp-vistanet/photos'"
      ]
     },
     "execution_count": 3,
     "metadata": {},
     "output_type": "execute_result"
    }
   ],
   "source": [
    "photos_dir = os.path.join(base_dir, \"photos\")\n",
    "photos_dir"
   ]
  },
  {
   "cell_type": "code",
   "execution_count": 5,
   "metadata": {},
   "outputs": [],
   "source": [
    "def check_photo(_id:str):\n",
    "    path = os.path.join(photos_dir, _id[:2], _id + \".jpg\")\n",
    "    return os.path.exists(path)"
   ]
  },
  {
   "cell_type": "code",
   "execution_count": 9,
   "metadata": {},
   "outputs": [],
   "source": [
    "def read_reviews(file_path:str, clean_data:bool) -> List[Dict[str, str]]: \n",
    "    # 读入数据\n",
    "    reviews = None\n",
    "    if file_path.endswith(\".json\"):\n",
    "         with open(file_path, 'r', encoding=\"utf-8\") as f:\n",
    "            reviews = []\n",
    "            for line in tqdm(f, \"Read json\"):\n",
    "                review = json.loads(line)\n",
    "                imgs = []\n",
    "                captions = []\n",
    "                for photo in review['Photos']:\n",
    "                    _id = photo['_id']\n",
    "                    caption = photo[\"Caption\"]\n",
    "                    if clean_data:\n",
    "                        if check_photo(_id):\n",
    "                            imgs.append(_id)\n",
    "                            captions.append(caption)\n",
    "                    else:\n",
    "                        imgs.append(_id)\n",
    "                        captions.append(caption)\n",
    "                reviews.append({'_id': review['_id'],\n",
    "                      'Text': review['Text'],\n",
    "                      'Photos': imgs,\n",
    "                      'Captions': captions,\n",
    "                      'Rating': review['Rating']})\n",
    "    elif file_pathle.endswith(\".pickle\"):\n",
    "        with open(file_path, 'rb') as f:\n",
    "            reviews = pickle.load(f) # 直接从pickle中加载\n",
    "    else:\n",
    "        raise RuntimeError(\"Illegal file path!\")\n",
    "    return reviews"
   ]
  },
  {
   "cell_type": "code",
   "execution_count": 10,
   "metadata": {},
   "outputs": [
    {
     "data": {
      "text/plain": [
       "['data/yelp-vistanet/raw/train.json',\n",
       " 'data/yelp-vistanet/raw/valid.json',\n",
       " 'data/yelp-vistanet/raw/test/Boston_test.json',\n",
       " 'data/yelp-vistanet/raw/test/Chicago_test.json',\n",
       " 'data/yelp-vistanet/raw/test/Los Angeles_test.json',\n",
       " 'data/yelp-vistanet/raw/test/New York_test.json',\n",
       " 'data/yelp-vistanet/raw/test/San Francisco_test.json']"
      ]
     },
     "execution_count": 10,
     "metadata": {},
     "output_type": "execute_result"
    }
   ],
   "source": [
    "pathes = [raw_train_file, raw_valid_file, *raw_test_files]\n",
    "pathes"
   ]
  },
  {
   "cell_type": "code",
   "execution_count": 11,
   "metadata": {},
   "outputs": [
    {
     "name": "stderr",
     "output_type": "stream",
     "text": [
      "Read json: 35435it [00:09, 3791.53it/s] \n",
      "Read json: 2215it [00:00, 15372.57it/s]\n",
      "Read json: 315it [00:00, 8599.75it/s]\n",
      "Read json: 325it [00:00, 10662.26it/s]\n",
      "Read json: 3730it [00:00, 19220.10it/s]\n",
      "Read json: 1715it [00:00, 17650.33it/s]\n",
      "Read json: 570it [00:00, 14839.91it/s]\n"
     ]
    },
    {
     "data": {
      "text/plain": [
       "44305"
      ]
     },
     "execution_count": 11,
     "metadata": {},
     "output_type": "execute_result"
    }
   ],
   "source": [
    "total = []\n",
    "for path in pathes:\n",
    "    total += read_reviews(path, True)\n",
    "len(total)"
   ]
  },
  {
   "cell_type": "code",
   "execution_count": 12,
   "metadata": {},
   "outputs": [
    {
     "data": {
      "text/plain": [
       "{'_id': 'VaGecZmwWgbneUqCjv_RQQ',\n",
       " 'Text': \"this place is really nice and quiet , the design made me feel like i was just entered into european house .|||the place is cozy and full of items floor to ceiling .|||i have ordered salad and pasta with alfredo sauce the pasta was really good how ever the salad was a bit boring since there was too much lettuce .|||the menu was n't clear and it was a bit difficult for me to read it .|||overall my experience was good the bad part was when i received the check and they added 20 % tip to the check .|||( dont get me wrong i would tip the guys how ever i think its my decision of how much i want to tip .\",\n",
       " 'Photos': ['e_RnludZr4L0d51KB7wLmA',\n",
       "  'URRZ3k3weK4-eNbJLBlZNQ',\n",
       "  'I4MAmxOVzx-m3EYgiA9yww'],\n",
       " 'Captions': ['hoto of Benito One - New York, NY, United States',\n",
       "  'Please let me decide how much tip I want to leave',\n",
       "  'hoto of Benito One - New York, NY, United States'],\n",
       " 'Rating': 2}"
      ]
     },
     "execution_count": 12,
     "metadata": {},
     "output_type": "execute_result"
    }
   ],
   "source": [
    "total[0]"
   ]
  },
  {
   "cell_type": "code",
   "execution_count": 13,
   "metadata": {},
   "outputs": [
    {
     "data": {
      "text/plain": [
       "{'_id': 'eGMAM2WzRbGvgMevwM4ahw',\n",
       " 'Text': \"i always feel unsure giving a place 5 stars after only one visit but i feel like soba-ya would not disappoint .|||the 3 of us got their early on a sunday , pretty much right when it opened and i would say within an hour or so the place was filled and people were already waiting for a table .|||so unless you want an early dinner be prepared to have to wait .|||i 'm not a soba expert in any way shape or form but the mori was amazing .|||as someone who has eaten ramen all his life and has read about ramen and more or less immersed himself in the culture of it , i feel this is exactly what really good soba would be like .|||the menu can be a little daunting given how big it is but i guess you kinda just have to go in there with a game plan .|||the rest of our dinner ranged from fried chicken to sauteed duck to mushroom tempura , which btw i 'm i fell in love with and would go back just for that .|||service was prompt and super friendly .|||do n't be thrown off when the waitress keeps an eye on your glass and makes sure she keeps it topped off .|||she 's not being pushy she 's just doing her job in a soba shop .|||between 3 people , apps , noodles and beer .|||came to about 120 sans tip .\",\n",
       " 'Photos': ['tJ9yo2CrEMKiO4SSIhZJ6A',\n",
       "  'BFq89PcO0_fKpv5TYWozOQ',\n",
       "  'XBGkwTbNivkMUpmjY9difA'],\n",
       " 'Captions': ['hoto of Soba-ya - New York, NY, United States',\n",
       "  'hoto of Soba-ya - New York, NY, United States',\n",
       "  'hoto of Soba-ya - New York, NY, United States'],\n",
       " 'Rating': 5}"
      ]
     },
     "execution_count": 13,
     "metadata": {},
     "output_type": "execute_result"
    }
   ],
   "source": [
    "random.shuffle(total)\n",
    "total[0]"
   ]
  },
  {
   "cell_type": "code",
   "execution_count": 14,
   "metadata": {},
   "outputs": [
    {
     "data": {
      "text/plain": [
       "(26583, 8861, 8861)"
      ]
     },
     "execution_count": 14,
     "metadata": {},
     "output_type": "execute_result"
    }
   ],
   "source": [
    "dividing_point = len(total) // 5\n",
    "clear_data = {}\n",
    "clear_data[\"train\"] = total[:-2*dividing_point]\n",
    "clear_data[\"valid\"] = total[-2*dividing_point:-dividing_point]\n",
    "clear_data[\"test\"] = total[-dividing_point:]\n",
    "len(clear_data[\"train\"]), len(clear_data[\"valid\"]), len(clear_data[\"test\"])"
   ]
  },
  {
   "cell_type": "code",
   "execution_count": 16,
   "metadata": {},
   "outputs": [
    {
     "data": {
      "text/plain": [
       "'data/yelp-vistanet/622data/clear_data.pickle'"
      ]
     },
     "execution_count": 16,
     "metadata": {},
     "output_type": "execute_result"
    }
   ],
   "source": [
    "_622_base_dir = os.path.join(base_dir, \"622data\")\n",
    "clear_data_file = os.path.join(_622_base_dir, \"clear_data.pickle\")\n",
    "clear_data_file"
   ]
  },
  {
   "cell_type": "code",
   "execution_count": 17,
   "metadata": {},
   "outputs": [],
   "source": [
    "with open(clear_data_file, \"wb\") as o:\n",
    "    pickle.dump(clear_data, o, protocol=pickle.HIGHEST_PROTOCOL)"
   ]
  },
  {
   "cell_type": "code",
   "execution_count": 18,
   "metadata": {},
   "outputs": [],
   "source": [
    "def get_imgs(reviews):\n",
    "    res = []\n",
    "    for r in reviews:\n",
    "        res += r[\"Photos\"]\n",
    "    return res"
   ]
  },
  {
   "cell_type": "code",
   "execution_count": 19,
   "metadata": {},
   "outputs": [
    {
     "data": {
      "text/plain": [
       "165427"
      ]
     },
     "execution_count": 19,
     "metadata": {},
     "output_type": "execute_result"
    }
   ],
   "source": [
    "all_imgs_id = get_imgs(clear_data[\"train\"]) + get_imgs(clear_data[\"valid\"]) + get_imgs(clear_data[\"test\"])\n",
    "len(all_imgs_id)"
   ]
  },
  {
   "cell_type": "code",
   "execution_count": null,
   "metadata": {},
   "outputs": [],
   "source": []
  }
 ],
 "metadata": {
  "kernelspec": {
   "display_name": "Python [conda env:torch1.6.0]",
   "language": "python",
   "name": "conda-env-torch1.6.0-py"
  },
  "language_info": {
   "codemirror_mode": {
    "name": "ipython",
    "version": 3
   },
   "file_extension": ".py",
   "mimetype": "text/x-python",
   "name": "python",
   "nbconvert_exporter": "python",
   "pygments_lexer": "ipython3",
   "version": "3.7.9"
  }
 },
 "nbformat": 4,
 "nbformat_minor": 4
}
