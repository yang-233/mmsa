{
 "cells": [
  {
   "cell_type": "code",
   "execution_count": 1,
   "metadata": {},
   "outputs": [],
   "source": [
    "import sys\n",
    "sys.path.append(\"/home/ly/workspace/mmsa\")\n",
    "\n",
    "import json\n",
    "import os\n",
    "import pickle\n",
    "import collections\n",
    "import numpy as np\n",
    "from typing import *\n",
    "from tqdm import tqdm\n",
    "from copy import deepcopy\n",
    "from transformers import ElectraTokenizer\n",
    "seed = 1024\n",
    "np.random.seed(seed)"
   ]
  },
  {
   "cell_type": "code",
   "execution_count": 2,
   "metadata": {},
   "outputs": [],
   "source": [
    "base_dir = os.path.join(\"data\",\"yelp-vistanet\")"
   ]
  },
  {
   "cell_type": "code",
   "execution_count": 3,
   "metadata": {},
   "outputs": [],
   "source": [
    "def load_data():\n",
    "    with open(\"data/yelp-vistanet/clear_data.pickle\", \"rb\") as r:\n",
    "        return pickle.load(r)"
   ]
  },
  {
   "cell_type": "code",
   "execution_count": 4,
   "metadata": {},
   "outputs": [],
   "source": [
    "class YelpElectraDataBuilder(object):\n",
    "    def __init__(self):\n",
    "        self.tokenizer = ElectraTokenizer('pretrained/electra_small/vocab.txt')\n",
    "        self.SENT_DELIMITER = '|||'\n",
    "    def tokenize_and_padding(self, text):\n",
    "        res = []\n",
    "        for sent in text.split(self.SENT_DELIMITER):\n",
    "            tokens = [deepcopy(self.tokenizer.cls_token)] # \n",
    "            if len(sent) > 0: # 有可能有空字符串\n",
    "                tokens += self.tokenizer.tokenize(sent)\n",
    "                tokens.append(deepcopy(self.tokenizer.sep_token)) \n",
    "                res.append(tokens)\n",
    "        return res\n",
    "    def build(self, text):\n",
    "        tokens_list = self.tokenize_and_padding(text)\n",
    "        return [self.tokenizer.convert_tokens_to_ids(tokens) for tokens in tokens_list]"
   ]
  },
  {
   "cell_type": "code",
   "execution_count": 5,
   "metadata": {},
   "outputs": [],
   "source": [
    "data = load_data()"
   ]
  },
  {
   "cell_type": "code",
   "execution_count": 6,
   "metadata": {},
   "outputs": [],
   "source": [
    "builder = YelpElectraDataBuilder()"
   ]
  },
  {
   "cell_type": "code",
   "execution_count": 7,
   "metadata": {},
   "outputs": [],
   "source": [
    "def photo_exist(_id):\n",
    "    path = os.path.join(base_dir, \"light_photos\", _id[:2], _id + \".jpg\")\n",
    "    return os.path.exists(path)\n",
    "def build_electra_data(builder, reviews): # \n",
    "    res = []\n",
    "    for review in tqdm(reviews):\n",
    "        d = {}\n",
    "        d[\"Text\"] = builder.build(review[\"Text\"])\n",
    "        d[\"Photos\"] = list(filter(photo_exist, review[\"Photos\"]))\n",
    "        d[\"Rating\"] = review[\"Rating\"]\n",
    "        res.append(d)\n",
    "    return res"
   ]
  },
  {
   "cell_type": "code",
   "execution_count": 8,
   "metadata": {},
   "outputs": [
    {
     "name": "stderr",
     "output_type": "stream",
     "text": [
      "100%|██████████| 35445/35445 [01:11<00:00, 493.56it/s]\n",
      "100%|██████████| 4430/4430 [00:08<00:00, 502.84it/s]\n",
      "100%|██████████| 4430/4430 [00:08<00:00, 504.90it/s]"
     ]
    },
    {
     "name": "stdout",
     "output_type": "stream",
     "text": [
      "CPU times: user 1min 29s, sys: 992 ms, total: 1min 30s\n",
      "Wall time: 1min 29s\n"
     ]
    },
    {
     "name": "stderr",
     "output_type": "stream",
     "text": [
      "\n"
     ]
    }
   ],
   "source": [
    "%%time\n",
    "electra_data = {}\n",
    "for key in [\"train\", \"valid\", \"test\"]:\n",
    "    electra_data[key] = build_electra_data(builder, data[key])"
   ]
  },
  {
   "cell_type": "code",
   "execution_count": 9,
   "metadata": {},
   "outputs": [
    {
     "data": {
      "text/plain": [
       "'data/yelp-vistanet/electra_data.pickle'"
      ]
     },
     "execution_count": 9,
     "metadata": {},
     "output_type": "execute_result"
    }
   ],
   "source": [
    "electra_data_path = os.path.join(base_dir, \"electra_data.pickle\")\n",
    "electra_data_path"
   ]
  },
  {
   "cell_type": "code",
   "execution_count": 11,
   "metadata": {},
   "outputs": [],
   "source": [
    "with open(electra_data_path, \"wb\") as w:\n",
    "    pickle.dump(electra_data, w, protocol=pickle.HIGHEST_PROTOCOL)"
   ]
  },
  {
   "cell_type": "code",
   "execution_count": 17,
   "metadata": {},
   "outputs": [],
   "source": [
    "def load_vgg_features(i): # 事实上所有review都只有三张图\n",
    "    path = os.path.join(base_dir, \"raw\", \"photo_features\", i[:2], i + \".npy\")\n",
    "    if os.path.exists(path):\n",
    "        return np.load(path)\n",
    "    else:\n",
    "        return None\n",
    "def build_electra_and_vgg_data(tokenizer, reviews:List[dict]):\n",
    "    res = []\n",
    "    for review in tqdm(reviews):\n",
    "        d = {}\n",
    "        d[\"Text\"] = builder.build(review[\"Text\"])\n",
    "        d[\"Photos\"] = []\n",
    "        for _id in review[\"Photos\"]:\n",
    "            features = load_vgg_features(_id)\n",
    "            if features is not None:\n",
    "                d[\"Photos\"].append(features)\n",
    "        d[\"Rating\"] = review[\"Rating\"]\n",
    "        res.append(d)\n",
    "    return res"
   ]
  },
  {
   "cell_type": "code",
   "execution_count": 19,
   "metadata": {},
   "outputs": [
    {
     "name": "stderr",
     "output_type": "stream",
     "text": [
      "100%|██████████| 35445/35445 [22:38<00:00, 26.09it/s]\n",
      "100%|██████████| 4430/4430 [02:48<00:00, 26.28it/s]\n",
      "100%|██████████| 4430/4430 [02:46<00:00, 26.55it/s]"
     ]
    },
    {
     "name": "stdout",
     "output_type": "stream",
     "text": [
      "CPU times: user 6min 54s, sys: 27 s, total: 7min 21s\n",
      "Wall time: 28min 13s\n"
     ]
    },
    {
     "name": "stderr",
     "output_type": "stream",
     "text": [
      "\n"
     ]
    }
   ],
   "source": [
    "%%time\n",
    "electra_vgg_data = {}\n",
    "for key in [\"train\", \"valid\", \"test\"]:\n",
    "    electra_vgg_data[key] = build_electra_and_vgg_data(builder, data[key])"
   ]
  },
  {
   "cell_type": "code",
   "execution_count": 20,
   "metadata": {},
   "outputs": [
    {
     "data": {
      "text/plain": [
       "'data/yelp-vistanet/electra_vgg_data.pickle'"
      ]
     },
     "execution_count": 20,
     "metadata": {},
     "output_type": "execute_result"
    }
   ],
   "source": [
    "electra_vgg_data_path = os.path.join(base_dir, \"electra_vgg_data.pickle\")\n",
    "electra_vgg_data_path"
   ]
  },
  {
   "cell_type": "code",
   "execution_count": 22,
   "metadata": {},
   "outputs": [
    {
     "name": "stdout",
     "output_type": "stream",
     "text": [
      "CPU times: user 1.74 s, sys: 2.06 s, total: 3.8 s\n",
      "Wall time: 16.2 s\n"
     ]
    }
   ],
   "source": [
    "%%time\n",
    "with open(electra_vgg_data_path, \"wb\") as w:\n",
    "    pickle.dump(electra_vgg_data, w, protocol=pickle.HIGHEST_PROTOCOL)"
   ]
  },
  {
   "cell_type": "code",
   "execution_count": null,
   "metadata": {},
   "outputs": [],
   "source": []
  }
 ],
 "metadata": {
  "kernelspec": {
   "display_name": "Python [conda env:torch1.6.0]",
   "language": "python",
   "name": "conda-env-torch1.6.0-py"
  },
  "language_info": {
   "codemirror_mode": {
    "name": "ipython",
    "version": 3
   },
   "file_extension": ".py",
   "mimetype": "text/x-python",
   "name": "python",
   "nbconvert_exporter": "python",
   "pygments_lexer": "ipython3",
   "version": "3.7.9"
  }
 },
 "nbformat": 4,
 "nbformat_minor": 4
}
