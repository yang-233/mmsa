{
 "cells": [
  {
   "cell_type": "code",
   "execution_count": 1,
   "metadata": {},
   "outputs": [],
   "source": [
    "from json import load\n",
    "import sys\n",
    "sys.path.append(\"/home/ly/workspace/mmsa\")\n",
    "\n",
    "import json\n",
    "import os\n",
    "import pickle\n",
    "import collections\n",
    "import numpy as np\n",
    "from typing import *\n",
    "from tqdm import tqdm\n",
    "\n",
    "from utils.tokenization import BasicTokenizer\n",
    "from utils.load_yelp import *\n",
    "seed = 1024\n",
    "np.random.seed(seed)"
   ]
  },
  {
   "cell_type": "code",
   "execution_count": 2,
   "metadata": {},
   "outputs": [],
   "source": [
    "data = load_data(split622data)"
   ]
  },
  {
   "cell_type": "code",
   "execution_count": 3,
   "metadata": {},
   "outputs": [
    {
     "data": {
      "text/plain": [
       "26583"
      ]
     },
     "execution_count": 3,
     "metadata": {},
     "output_type": "execute_result"
    }
   ],
   "source": [
    "len(data[\"train\"])"
   ]
  },
  {
   "cell_type": "code",
   "execution_count": 4,
   "metadata": {},
   "outputs": [
    {
     "name": "stderr",
     "output_type": "stream",
     "text": [
      "Count word frequency: 100%|██████████| 26583/26583 [00:42<00:00, 619.72it/s]\n",
      "Count word frequency: 100%|██████████| 8861/8861 [00:14<00:00, 622.52it/s]\n"
     ]
    }
   ],
   "source": [
    "freq_dict = count_word_freq(data[\"train\"])\n",
    "freq_dict = count_word_freq(data[\"valid\"], freq_dict)"
   ]
  },
  {
   "cell_type": "code",
   "execution_count": 5,
   "metadata": {},
   "outputs": [
    {
     "name": "stderr",
     "output_type": "stream",
     "text": [
      "400000it [00:00, 1276335.72it/s]\n"
     ]
    }
   ],
   "source": [
    "token2idx, idx2token = load_vocab_file(\"pretrained/glove6B/vocab.txt\")"
   ]
  },
  {
   "cell_type": "code",
   "execution_count": 6,
   "metadata": {},
   "outputs": [
    {
     "name": "stderr",
     "output_type": "stream",
     "text": [
      "400000it [00:00, 1300177.39it/s]\n"
     ]
    },
    {
     "name": "stdout",
     "output_type": "stream",
     "text": [
      "There are 41267 words in vocab.\n"
     ]
    }
   ],
   "source": [
    "token2idx, idx2token, glove_idx = build_vocab_from_glove(freq_dict)"
   ]
  },
  {
   "cell_type": "code",
   "execution_count": 7,
   "metadata": {},
   "outputs": [],
   "source": [
    "save_vocab(base_dir, token2idx, idx2token, glove_idx)"
   ]
  },
  {
   "cell_type": "code",
   "execution_count": 8,
   "metadata": {},
   "outputs": [
    {
     "data": {
      "text/plain": [
       "(41267, 41269, 41267)"
      ]
     },
     "execution_count": 8,
     "metadata": {},
     "output_type": "execute_result"
    }
   ],
   "source": [
    "vocab = load_glove_vocab(base_dir)\n",
    "len(vocab[\"token2idx\"]), len(vocab[\"idx2token\"]), len(vocab[\"glove_idx\"])"
   ]
  },
  {
   "cell_type": "code",
   "execution_count": 9,
   "metadata": {},
   "outputs": [
    {
     "name": "stderr",
     "output_type": "stream",
     "text": [
      "Load glove: 100%|██████████| 400000/400000 [00:04<00:00, 93394.92it/s]\n",
      "Load glove: 100%|██████████| 400000/400000 [00:07<00:00, 51931.99it/s]\n",
      "Load glove: 100%|██████████| 400000/400000 [00:12<00:00, 31228.32it/s]\n",
      "Load glove: 100%|██████████| 400000/400000 [00:18<00:00, 21766.67it/s]\n"
     ]
    }
   ],
   "source": [
    "all_d = [50, 100, 200, 300]\n",
    "for d in all_d:\n",
    "    w = get_yelp_glove_weight(split622data, d)"
   ]
  },
  {
   "cell_type": "code",
   "execution_count": 11,
   "metadata": {},
   "outputs": [],
   "source": [
    "glove_tokenizer = YelpSimpleTokenizer(vocab[\"token2idx\"], do_lower_case=True)"
   ]
  },
  {
   "cell_type": "code",
   "execution_count": null,
   "metadata": {},
   "outputs": [],
   "source": [
    "glove_tokenizer.to_idx(data[\"train\"][0][\"Text\"])"
   ]
  },
  {
   "cell_type": "code",
   "execution_count": 10,
   "metadata": {},
   "outputs": [],
   "source": [
    "def load_vgg_features(i): # 事实上所有review都只有三张图\n",
    "    path = os.path.join(base_dir, \"raw\", \"photo_features\", i[:2], i + \".npy\")\n",
    "    if os.path.exists(path):\n",
    "        return np.load(path)\n",
    "    else:\n",
    "        return None\n",
    "def build_glove_and_vgg_data(tokenizer, reviews:List[dict]):\n",
    "    res = []\n",
    "    for review in tqdm(reviews):\n",
    "        d = {}\n",
    "        d[\"Text\"] = tokenizer.to_idx(review[\"Text\"])\n",
    "        d[\"Photos\"] = []\n",
    "        for _id in review[\"Photos\"]:\n",
    "            features = load_vgg_features(_id)\n",
    "            if features is not None:\n",
    "                d[\"Photos\"].append(features)\n",
    "        d[\"Rating\"] = review[\"Rating\"]\n",
    "        res.append(d)\n",
    "    return res"
   ]
  },
  {
   "cell_type": "code",
   "execution_count": 13,
   "metadata": {},
   "outputs": [
    {
     "name": "stderr",
     "output_type": "stream",
     "text": [
      "100%|██████████| 26583/26583 [16:21<00:00, 27.10it/s]\n",
      "100%|██████████| 8861/8861 [05:27<00:00, 27.06it/s]\n",
      "100%|██████████| 8861/8861 [05:25<00:00, 27.21it/s]"
     ]
    },
    {
     "name": "stdout",
     "output_type": "stream",
     "text": [
      "CPU times: user 6min 3s, sys: 27.4 s, total: 6min 31s\n",
      "Wall time: 27min 14s\n"
     ]
    },
    {
     "name": "stderr",
     "output_type": "stream",
     "text": [
      "\n"
     ]
    }
   ],
   "source": [
    "%%time\n",
    "glove_vgg_data = {}\n",
    "for key in [\"train\", \"valid\", \"test\"]:\n",
    "    glove_vgg_data[key] = build_glove_and_vgg_data(glove_tokenizer, data[key])"
   ]
  },
  {
   "cell_type": "code",
   "execution_count": 14,
   "metadata": {},
   "outputs": [
    {
     "data": {
      "text/plain": [
       "'data/yelp-vistanet/622data/glove_vgg_data.pickle'"
      ]
     },
     "execution_count": 14,
     "metadata": {},
     "output_type": "execute_result"
    }
   ],
   "source": [
    "glove_vgg_data_path = os.path.join(split622data, \"glove_vgg_data.pickle\")\n",
    "glove_vgg_data_path"
   ]
  },
  {
   "cell_type": "code",
   "execution_count": 15,
   "metadata": {},
   "outputs": [
    {
     "name": "stdout",
     "output_type": "stream",
     "text": [
      "CPU times: user 1.75 s, sys: 1.51 s, total: 3.26 s\n",
      "Wall time: 3.83 s\n"
     ]
    }
   ],
   "source": [
    "%%time\n",
    "with open(glove_vgg_data_path, \"wb\") as w:\n",
    "    pickle.dump(glove_vgg_data, w, protocol=pickle.HIGHEST_PROTOCOL)"
   ]
  },
  {
   "cell_type": "code",
   "execution_count": 16,
   "metadata": {},
   "outputs": [
    {
     "data": {
      "text/plain": [
       "44305"
      ]
     },
     "execution_count": 16,
     "metadata": {},
     "output_type": "execute_result"
    }
   ],
   "source": [
    "imgs_num = []\n",
    "for key in [\"train\", \"valid\", \"test\"]:\n",
    "    for review in glove_vgg_data[key]:\n",
    "        imgs_num.append(len(review[\"Photos\"]))\n",
    "len(imgs_num)"
   ]
  },
  {
   "cell_type": "code",
   "execution_count": 17,
   "metadata": {},
   "outputs": [],
   "source": [
    "a = np.array(imgs_num)"
   ]
  },
  {
   "cell_type": "code",
   "execution_count": 18,
   "metadata": {},
   "outputs": [
    {
     "data": {
      "text/plain": [
       "44305"
      ]
     },
     "execution_count": 18,
     "metadata": {},
     "output_type": "execute_result"
    }
   ],
   "source": [
    "(a == 3).sum()"
   ]
  },
  {
   "cell_type": "code",
   "execution_count": null,
   "metadata": {},
   "outputs": [],
   "source": [
    "glove_vgg_data[\"train\"][0]"
   ]
  },
  {
   "cell_type": "code",
   "execution_count": 20,
   "metadata": {},
   "outputs": [],
   "source": [
    "def check_photo(i): \n",
    "    path = os.path.join(base_dir, \"photos\", i[:2], i + \".jpg\")\n",
    "    return os.path.exists(path)\n",
    "\n",
    "def build_glove_data(tokenizer, reviews:List[dict]):\n",
    "    res = []\n",
    "    total_img = 0\n",
    "    for review in tqdm(reviews):\n",
    "        d = {}\n",
    "        d[\"Text\"] = tokenizer.to_idx(review[\"Text\"])\n",
    "        d[\"Photos\"] = []\n",
    "        for _id in review[\"Photos\"]:\n",
    "            if check_photo(_id):\n",
    "                d[\"Photos\"].append(_id)\n",
    "                total_img += 1\n",
    "        d[\"Rating\"] = review[\"Rating\"]\n",
    "        res.append(d)\n",
    "    print(f\"Image num : {total_img}\")\n",
    "    return res"
   ]
  },
  {
   "cell_type": "code",
   "execution_count": 21,
   "metadata": {},
   "outputs": [
    {
     "name": "stderr",
     "output_type": "stream",
     "text": [
      "100%|██████████| 26583/26583 [00:45<00:00, 582.08it/s]\n",
      "  1%|          | 66/8861 [00:00<00:13, 654.06it/s]"
     ]
    },
    {
     "name": "stdout",
     "output_type": "stream",
     "text": [
      "Image num : 98493\n"
     ]
    },
    {
     "name": "stderr",
     "output_type": "stream",
     "text": [
      "100%|██████████| 8861/8861 [00:14<00:00, 598.61it/s]\n",
      "  1%|          | 73/8861 [00:00<00:12, 721.41it/s]"
     ]
    },
    {
     "name": "stdout",
     "output_type": "stream",
     "text": [
      "Image num : 33527\n"
     ]
    },
    {
     "name": "stderr",
     "output_type": "stream",
     "text": [
      "100%|██████████| 8861/8861 [00:14<00:00, 594.86it/s]"
     ]
    },
    {
     "name": "stdout",
     "output_type": "stream",
     "text": [
      "Image num : 33407\n",
      "CPU times: user 1min 14s, sys: 1.09 s, total: 1min 15s\n",
      "Wall time: 1min 15s\n"
     ]
    },
    {
     "name": "stderr",
     "output_type": "stream",
     "text": [
      "\n"
     ]
    }
   ],
   "source": [
    "%%time\n",
    "glove_data = {}\n",
    "for key in [\"train\", \"valid\", \"test\"]:\n",
    "    glove_data[key] = build_glove_data(glove_tokenizer, data[key])"
   ]
  },
  {
   "cell_type": "code",
   "execution_count": 22,
   "metadata": {},
   "outputs": [],
   "source": [
    "path = os.path.join(split622data, \"glove_data.pickle\")\n",
    "with open(path, \"wb\") as w:\n",
    "    pickle.dump(glove_data, w, protocol=pickle.HIGHEST_PROTOCOL)"
   ]
  },
  {
   "cell_type": "code",
   "execution_count": null,
   "metadata": {},
   "outputs": [],
   "source": []
  }
 ],
 "metadata": {
  "kernelspec": {
   "display_name": "Python [conda env:torch1.6.0]",
   "language": "python",
   "name": "conda-env-torch1.6.0-py"
  },
  "language_info": {
   "codemirror_mode": {
    "name": "ipython",
    "version": 3
   },
   "file_extension": ".py",
   "mimetype": "text/x-python",
   "name": "python",
   "nbconvert_exporter": "python",
   "pygments_lexer": "ipython3",
   "version": "3.7.9"
  }
 },
 "nbformat": 4,
 "nbformat_minor": 4
}
