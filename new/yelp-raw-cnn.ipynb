{
 "cells": [
  {
   "cell_type": "code",
   "execution_count": 1,
   "metadata": {},
   "outputs": [
    {
     "data": {
      "text/plain": [
       "{'use_cuda': True,\n",
       " 'task': 'CLS',\n",
       " 'embedding_dim': 100,\n",
       " 'embedding': None,\n",
       " 'freeze_embedding': True,\n",
       " 'filter_size': (2, 3, 4, 5),\n",
       " 'filter_num': 50,\n",
       " 'max_tokens': 512,\n",
       " 'bias_init': 1.0,\n",
       " 'use_img': True,\n",
       " 'img_input_size': 4096,\n",
       " 'img_output_size': 100,\n",
       " 'img_num': 3,\n",
       " 'output_size': 5,\n",
       " 'dropout': 0.5}"
      ]
     },
     "execution_count": 1,
     "metadata": {},
     "output_type": "execute_result"
    }
   ],
   "source": [
    "import sys\n",
    "sys.path.append(\"/home/ly/workspace/mmsa\")\n",
    "seed = 1000003\n",
    "import numpy as np\n",
    "import torch\n",
    "from torch import nn\n",
    "from torch import optim\n",
    "\n",
    "np.random.seed(seed)\n",
    "torch.manual_seed(seed)\n",
    "torch.cuda.manual_seed(seed)\n",
    "torch.cuda.manual_seed_all(seed)\n",
    "from models.text_cnn import *\n",
    "from utils.train import *\n",
    "from typing import *\n",
    "from collections import Counter\n",
    "\n",
    "from utils.load_raw_yelp import *\n",
    "from utils.dataset import *\n",
    "from utils.train import *\n",
    "config"
   ]
  },
  {
   "cell_type": "code",
   "execution_count": 2,
   "metadata": {},
   "outputs": [
    {
     "data": {
      "text/plain": [
       "{'use_cuda': True,\n",
       " 'task': 'CLS',\n",
       " 'embedding_dim': 100,\n",
       " 'embedding': None,\n",
       " 'freeze_embedding': True,\n",
       " 'filter_size': (2, 3, 4, 5),\n",
       " 'filter_num': 50,\n",
       " 'max_tokens': 512,\n",
       " 'bias_init': 1.0,\n",
       " 'use_img': False,\n",
       " 'img_input_size': 4096,\n",
       " 'img_output_size': 100,\n",
       " 'img_num': 3,\n",
       " 'output_size': 5,\n",
       " 'dropout': 0.5}"
      ]
     },
     "execution_count": 2,
     "metadata": {},
     "output_type": "execute_result"
    }
   ],
   "source": [
    "config[\"use_img\"] = False\n",
    "config"
   ]
  },
  {
   "cell_type": "code",
   "execution_count": 3,
   "metadata": {},
   "outputs": [
    {
     "name": "stderr",
     "output_type": "stream",
     "text": [
      "Setting up a new session...\n"
     ]
    },
    {
     "name": "stdout",
     "output_type": "stream",
     "text": [
      "{'Total': 4289505, 'Trainable': 71205}\n"
     ]
    },
    {
     "name": "stderr",
     "output_type": "stream",
     "text": [
      "No 1 epoch: 554it [00:16, 32.68it/s]\n",
      "No 2 epoch: 554it [00:16, 32.64it/s]\n",
      "No 3 epoch: 554it [00:16, 33.01it/s]\n",
      "No 4 epoch: 554it [00:17, 32.12it/s]\n",
      "No 5 epoch: 554it [00:16, 32.70it/s]\n",
      "No 6 epoch: 554it [00:17, 32.50it/s]\n",
      "No 7 epoch: 554it [00:17, 32.00it/s]\n",
      "No 8 epoch: 554it [00:17, 31.92it/s]\n",
      "No 9 epoch: 554it [00:17, 32.19it/s]\n",
      "No 10 epoch: 554it [00:17, 31.33it/s]\n",
      "No 11 epoch: 554it [00:17, 32.12it/s]\n",
      "No 12 epoch: 554it [00:17, 31.63it/s]\n",
      "No 13 epoch: 554it [00:17, 31.48it/s]\n"
     ]
    },
    {
     "name": "stdout",
     "output_type": "stream",
     "text": [
      "CPU times: user 2min 25s, sys: 17.9 s, total: 2min 43s\n",
      "Wall time: 4min 9s\n"
     ]
    },
    {
     "data": {
      "text/plain": [
       "{'Boston': {'Accuracy': 0.5555555555555556,\n",
       "  'F1': 0.5477660777875244,\n",
       "  'Loss': 1.0528017373312086},\n",
       " 'Chicago': {'Accuracy': 0.5538461538461539,\n",
       "  'F1': 0.5475804982816275,\n",
       "  'Loss': 1.060893373122582},\n",
       " 'Los Angeles': {'Accuracy': 0.5439678284182305,\n",
       "  'F1': 0.5381805476619441,\n",
       "  'Loss': 1.0767751831791037},\n",
       " 'New York': {'Accuracy': 0.5422740524781341,\n",
       "  'F1': 0.5330300329701403,\n",
       "  'Loss': 1.0581068836912817},\n",
       " 'San Francisco': {'Accuracy': 0.5298245614035088,\n",
       "  'F1': 0.5245073629849208,\n",
       "  'Loss': 1.0703527751721833},\n",
       " 'Total': {'Accuracy': 0.543350864012021,\n",
       "  'F1': 0.5367667077167395,\n",
       "  'Loss': 1.0695039390174184}}"
      ]
     },
     "execution_count": 3,
     "metadata": {},
     "output_type": "execute_result"
    }
   ],
   "source": [
    "%%time\n",
    "batch_size = 64\n",
    "workers = 4\n",
    "train_set, valid_set, test_set= load_glove_data(config)\n",
    "train_loader, valid_loader, test_loader = get_yelp_raw_loader(batch_size, workers, get_collate_fn(config), train_set, valid_set, test_set)\n",
    "model = Model(config).cuda()\n",
    "loss = nn.CrossEntropyLoss()\n",
    "print(get_parameter_number(model))\n",
    "\n",
    "_interval = 5\n",
    "lr = 1e-3\n",
    "epoches = 50\n",
    "stoping_step = 5\n",
    "optimizer = get_regal_optimizer(model, optim.AdamW, lr)\n",
    "\n",
    "viz = get_Visdom()\n",
    "batch_loss_drawer = VisdomScalar(viz, f\"batch_loss interval:{_interval}\")\n",
    "epoch_loss_drawer = VisdomScalar(viz, f\"Train and valid loss\", 2)\n",
    "acc_drawer = VisdomScalar(viz, \"Train and valid accuracy\", 2)\n",
    "text_writer = VisdomTextWriter(viz, \"Training\")\n",
    "\n",
    "batch_loss = []\n",
    "train_loss = []\n",
    "valid_loss = []\n",
    "train_acc = []\n",
    "valid_acc = []\n",
    "\n",
    "res, model = train_visdom_v2(model, optimizer, loss, viz, train_loader,\n",
    "                          valid_loader, epoches, batch_loss, batch_loss_drawer,\n",
    "                          train_loss, valid_loss, epoch_loss_drawer,\n",
    "                          train_acc, valid_acc, acc_drawer, text_writer,\n",
    "                         _interval=_interval, early_stop=stoping_step)\n",
    "\n",
    "eval_model_on_raw_yelp(model, loss, test_loader)"
   ]
  },
  {
   "cell_type": "code",
   "execution_count": null,
   "metadata": {},
   "outputs": [],
   "source": []
  }
 ],
 "metadata": {
  "kernelspec": {
   "display_name": "torch1.7(py3.8.5)",
   "language": "python",
   "name": "torch1.7"
  },
  "language_info": {
   "codemirror_mode": {
    "name": "ipython",
    "version": 3
   },
   "file_extension": ".py",
   "mimetype": "text/x-python",
   "name": "python",
   "nbconvert_exporter": "python",
   "pygments_lexer": "ipython3",
   "version": "3.8.5"
  }
 },
 "nbformat": 4,
 "nbformat_minor": 4
}
